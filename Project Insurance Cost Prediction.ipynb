{
 "cells": [
  {
   "cell_type": "markdown",
   "id": "88c7648c",
   "metadata": {},
   "source": [
    "## Business case : Predicting the insurance cost with the given features"
   ]
  },
  {
   "cell_type": "markdown",
   "id": "1f17c4a9",
   "metadata": {},
   "source": [
    "### Domain Analysis : Basic understanding of the features\n",
    "##### age: age of the client\n",
    "##### sex: insurance contractor gender: female, male\n",
    "##### bmi: Body mass index, providing an understanding of body, weights that are relatively high or low relative to height,objective index of body weight (kg / m ^ 2) using the ratio of height to weight, ideally 18.5 to 24.9\n",
    "##### children: Number of children covered by health insurance / Number of dependents\n",
    "##### smoker: whether the client is a smoker or not\n",
    "##### region: the beneficiary's residential area in the US, northeast, southeast, southwest, northwest.\n",
    "##### charges: Individual medical costs billed by health insurance"
   ]
  },
  {
   "cell_type": "code",
   "execution_count": 1,
   "id": "9fabf26b",
   "metadata": {},
   "outputs": [],
   "source": [
    "## Importing the libraries\n",
    "\n",
    "import pandas as pd ## pandas is used to manipulate the dataframe\n",
    "import numpy as np ## numpy is used to do scientific calculation\n",
    "import matplotlib.pyplot as plt ## matplotlib is used for visualization\n",
    "import seaborn as sns ## seaborn is used for visualization\n",
    "%matplotlib inline\n",
    "import warnings ## used to remove warnings\n",
    "warnings.filterwarnings('ignore')"
   ]
  },
  {
   "cell_type": "code",
   "execution_count": 2,
   "id": "bafe5cb1",
   "metadata": {},
   "outputs": [],
   "source": [
    "## Importing the data\n",
    "\n",
    "data=pd.read_csv(r\"C:\\Users\\ASMITHA\\Downloads\\Data Science\\insurance project\\datasets_13720_18513_insurance(1).csv\")"
   ]
  },
  {
   "cell_type": "code",
   "execution_count": 3,
   "id": "54871af2",
   "metadata": {},
   "outputs": [
    {
     "data": {
      "text/html": [
       "<div>\n",
       "<style scoped>\n",
       "    .dataframe tbody tr th:only-of-type {\n",
       "        vertical-align: middle;\n",
       "    }\n",
       "\n",
       "    .dataframe tbody tr th {\n",
       "        vertical-align: top;\n",
       "    }\n",
       "\n",
       "    .dataframe thead th {\n",
       "        text-align: right;\n",
       "    }\n",
       "</style>\n",
       "<table border=\"1\" class=\"dataframe\">\n",
       "  <thead>\n",
       "    <tr style=\"text-align: right;\">\n",
       "      <th></th>\n",
       "      <th>age</th>\n",
       "      <th>sex</th>\n",
       "      <th>bmi</th>\n",
       "      <th>children</th>\n",
       "      <th>smoker</th>\n",
       "      <th>region</th>\n",
       "      <th>charges</th>\n",
       "    </tr>\n",
       "  </thead>\n",
       "  <tbody>\n",
       "    <tr>\n",
       "      <th>0</th>\n",
       "      <td>19</td>\n",
       "      <td>female</td>\n",
       "      <td>27.900</td>\n",
       "      <td>0</td>\n",
       "      <td>yes</td>\n",
       "      <td>southwest</td>\n",
       "      <td>16884.92400</td>\n",
       "    </tr>\n",
       "    <tr>\n",
       "      <th>1</th>\n",
       "      <td>18</td>\n",
       "      <td>male</td>\n",
       "      <td>33.770</td>\n",
       "      <td>1</td>\n",
       "      <td>no</td>\n",
       "      <td>southeast</td>\n",
       "      <td>1725.55230</td>\n",
       "    </tr>\n",
       "    <tr>\n",
       "      <th>2</th>\n",
       "      <td>28</td>\n",
       "      <td>male</td>\n",
       "      <td>33.000</td>\n",
       "      <td>3</td>\n",
       "      <td>no</td>\n",
       "      <td>southeast</td>\n",
       "      <td>4449.46200</td>\n",
       "    </tr>\n",
       "    <tr>\n",
       "      <th>3</th>\n",
       "      <td>33</td>\n",
       "      <td>male</td>\n",
       "      <td>22.705</td>\n",
       "      <td>0</td>\n",
       "      <td>no</td>\n",
       "      <td>northwest</td>\n",
       "      <td>21984.47061</td>\n",
       "    </tr>\n",
       "    <tr>\n",
       "      <th>4</th>\n",
       "      <td>32</td>\n",
       "      <td>male</td>\n",
       "      <td>28.880</td>\n",
       "      <td>0</td>\n",
       "      <td>no</td>\n",
       "      <td>northwest</td>\n",
       "      <td>3866.85520</td>\n",
       "    </tr>\n",
       "    <tr>\n",
       "      <th>...</th>\n",
       "      <td>...</td>\n",
       "      <td>...</td>\n",
       "      <td>...</td>\n",
       "      <td>...</td>\n",
       "      <td>...</td>\n",
       "      <td>...</td>\n",
       "      <td>...</td>\n",
       "    </tr>\n",
       "    <tr>\n",
       "      <th>1333</th>\n",
       "      <td>50</td>\n",
       "      <td>male</td>\n",
       "      <td>30.970</td>\n",
       "      <td>3</td>\n",
       "      <td>no</td>\n",
       "      <td>northwest</td>\n",
       "      <td>10600.54830</td>\n",
       "    </tr>\n",
       "    <tr>\n",
       "      <th>1334</th>\n",
       "      <td>18</td>\n",
       "      <td>female</td>\n",
       "      <td>31.920</td>\n",
       "      <td>0</td>\n",
       "      <td>no</td>\n",
       "      <td>northeast</td>\n",
       "      <td>2205.98080</td>\n",
       "    </tr>\n",
       "    <tr>\n",
       "      <th>1335</th>\n",
       "      <td>18</td>\n",
       "      <td>female</td>\n",
       "      <td>36.850</td>\n",
       "      <td>0</td>\n",
       "      <td>no</td>\n",
       "      <td>southeast</td>\n",
       "      <td>1629.83350</td>\n",
       "    </tr>\n",
       "    <tr>\n",
       "      <th>1336</th>\n",
       "      <td>21</td>\n",
       "      <td>female</td>\n",
       "      <td>25.800</td>\n",
       "      <td>0</td>\n",
       "      <td>no</td>\n",
       "      <td>southwest</td>\n",
       "      <td>2007.94500</td>\n",
       "    </tr>\n",
       "    <tr>\n",
       "      <th>1337</th>\n",
       "      <td>61</td>\n",
       "      <td>female</td>\n",
       "      <td>29.070</td>\n",
       "      <td>0</td>\n",
       "      <td>yes</td>\n",
       "      <td>northwest</td>\n",
       "      <td>29141.36030</td>\n",
       "    </tr>\n",
       "  </tbody>\n",
       "</table>\n",
       "<p>1338 rows × 7 columns</p>\n",
       "</div>"
      ],
      "text/plain": [
       "      age     sex     bmi  children smoker     region      charges\n",
       "0      19  female  27.900         0    yes  southwest  16884.92400\n",
       "1      18    male  33.770         1     no  southeast   1725.55230\n",
       "2      28    male  33.000         3     no  southeast   4449.46200\n",
       "3      33    male  22.705         0     no  northwest  21984.47061\n",
       "4      32    male  28.880         0     no  northwest   3866.85520\n",
       "...   ...     ...     ...       ...    ...        ...          ...\n",
       "1333   50    male  30.970         3     no  northwest  10600.54830\n",
       "1334   18  female  31.920         0     no  northeast   2205.98080\n",
       "1335   18  female  36.850         0     no  southeast   1629.83350\n",
       "1336   21  female  25.800         0     no  southwest   2007.94500\n",
       "1337   61  female  29.070         0    yes  northwest  29141.36030\n",
       "\n",
       "[1338 rows x 7 columns]"
      ]
     },
     "execution_count": 3,
     "metadata": {},
     "output_type": "execute_result"
    }
   ],
   "source": [
    "## Getting the data\n",
    "\n",
    "data"
   ]
  },
  {
   "cell_type": "markdown",
   "id": "f583ec98",
   "metadata": {},
   "source": [
    "## Basic checks"
   ]
  },
  {
   "cell_type": "code",
   "execution_count": 4,
   "id": "e0959bb7",
   "metadata": {},
   "outputs": [
    {
     "data": {
      "text/html": [
       "<div>\n",
       "<style scoped>\n",
       "    .dataframe tbody tr th:only-of-type {\n",
       "        vertical-align: middle;\n",
       "    }\n",
       "\n",
       "    .dataframe tbody tr th {\n",
       "        vertical-align: top;\n",
       "    }\n",
       "\n",
       "    .dataframe thead th {\n",
       "        text-align: right;\n",
       "    }\n",
       "</style>\n",
       "<table border=\"1\" class=\"dataframe\">\n",
       "  <thead>\n",
       "    <tr style=\"text-align: right;\">\n",
       "      <th></th>\n",
       "      <th>age</th>\n",
       "      <th>sex</th>\n",
       "      <th>bmi</th>\n",
       "      <th>children</th>\n",
       "      <th>smoker</th>\n",
       "      <th>region</th>\n",
       "      <th>charges</th>\n",
       "    </tr>\n",
       "  </thead>\n",
       "  <tbody>\n",
       "    <tr>\n",
       "      <th>0</th>\n",
       "      <td>19</td>\n",
       "      <td>female</td>\n",
       "      <td>27.900</td>\n",
       "      <td>0</td>\n",
       "      <td>yes</td>\n",
       "      <td>southwest</td>\n",
       "      <td>16884.92400</td>\n",
       "    </tr>\n",
       "    <tr>\n",
       "      <th>1</th>\n",
       "      <td>18</td>\n",
       "      <td>male</td>\n",
       "      <td>33.770</td>\n",
       "      <td>1</td>\n",
       "      <td>no</td>\n",
       "      <td>southeast</td>\n",
       "      <td>1725.55230</td>\n",
       "    </tr>\n",
       "    <tr>\n",
       "      <th>2</th>\n",
       "      <td>28</td>\n",
       "      <td>male</td>\n",
       "      <td>33.000</td>\n",
       "      <td>3</td>\n",
       "      <td>no</td>\n",
       "      <td>southeast</td>\n",
       "      <td>4449.46200</td>\n",
       "    </tr>\n",
       "    <tr>\n",
       "      <th>3</th>\n",
       "      <td>33</td>\n",
       "      <td>male</td>\n",
       "      <td>22.705</td>\n",
       "      <td>0</td>\n",
       "      <td>no</td>\n",
       "      <td>northwest</td>\n",
       "      <td>21984.47061</td>\n",
       "    </tr>\n",
       "    <tr>\n",
       "      <th>4</th>\n",
       "      <td>32</td>\n",
       "      <td>male</td>\n",
       "      <td>28.880</td>\n",
       "      <td>0</td>\n",
       "      <td>no</td>\n",
       "      <td>northwest</td>\n",
       "      <td>3866.85520</td>\n",
       "    </tr>\n",
       "  </tbody>\n",
       "</table>\n",
       "</div>"
      ],
      "text/plain": [
       "   age     sex     bmi  children smoker     region      charges\n",
       "0   19  female  27.900         0    yes  southwest  16884.92400\n",
       "1   18    male  33.770         1     no  southeast   1725.55230\n",
       "2   28    male  33.000         3     no  southeast   4449.46200\n",
       "3   33    male  22.705         0     no  northwest  21984.47061\n",
       "4   32    male  28.880         0     no  northwest   3866.85520"
      ]
     },
     "execution_count": 4,
     "metadata": {},
     "output_type": "execute_result"
    }
   ],
   "source": [
    "data.head() ## getting the first five rows of the data"
   ]
  },
  {
   "cell_type": "code",
   "execution_count": 5,
   "id": "46307b2e",
   "metadata": {},
   "outputs": [
    {
     "data": {
      "text/html": [
       "<div>\n",
       "<style scoped>\n",
       "    .dataframe tbody tr th:only-of-type {\n",
       "        vertical-align: middle;\n",
       "    }\n",
       "\n",
       "    .dataframe tbody tr th {\n",
       "        vertical-align: top;\n",
       "    }\n",
       "\n",
       "    .dataframe thead th {\n",
       "        text-align: right;\n",
       "    }\n",
       "</style>\n",
       "<table border=\"1\" class=\"dataframe\">\n",
       "  <thead>\n",
       "    <tr style=\"text-align: right;\">\n",
       "      <th></th>\n",
       "      <th>age</th>\n",
       "      <th>sex</th>\n",
       "      <th>bmi</th>\n",
       "      <th>children</th>\n",
       "      <th>smoker</th>\n",
       "      <th>region</th>\n",
       "      <th>charges</th>\n",
       "    </tr>\n",
       "  </thead>\n",
       "  <tbody>\n",
       "    <tr>\n",
       "      <th>1333</th>\n",
       "      <td>50</td>\n",
       "      <td>male</td>\n",
       "      <td>30.97</td>\n",
       "      <td>3</td>\n",
       "      <td>no</td>\n",
       "      <td>northwest</td>\n",
       "      <td>10600.5483</td>\n",
       "    </tr>\n",
       "    <tr>\n",
       "      <th>1334</th>\n",
       "      <td>18</td>\n",
       "      <td>female</td>\n",
       "      <td>31.92</td>\n",
       "      <td>0</td>\n",
       "      <td>no</td>\n",
       "      <td>northeast</td>\n",
       "      <td>2205.9808</td>\n",
       "    </tr>\n",
       "    <tr>\n",
       "      <th>1335</th>\n",
       "      <td>18</td>\n",
       "      <td>female</td>\n",
       "      <td>36.85</td>\n",
       "      <td>0</td>\n",
       "      <td>no</td>\n",
       "      <td>southeast</td>\n",
       "      <td>1629.8335</td>\n",
       "    </tr>\n",
       "    <tr>\n",
       "      <th>1336</th>\n",
       "      <td>21</td>\n",
       "      <td>female</td>\n",
       "      <td>25.80</td>\n",
       "      <td>0</td>\n",
       "      <td>no</td>\n",
       "      <td>southwest</td>\n",
       "      <td>2007.9450</td>\n",
       "    </tr>\n",
       "    <tr>\n",
       "      <th>1337</th>\n",
       "      <td>61</td>\n",
       "      <td>female</td>\n",
       "      <td>29.07</td>\n",
       "      <td>0</td>\n",
       "      <td>yes</td>\n",
       "      <td>northwest</td>\n",
       "      <td>29141.3603</td>\n",
       "    </tr>\n",
       "  </tbody>\n",
       "</table>\n",
       "</div>"
      ],
      "text/plain": [
       "      age     sex    bmi  children smoker     region     charges\n",
       "1333   50    male  30.97         3     no  northwest  10600.5483\n",
       "1334   18  female  31.92         0     no  northeast   2205.9808\n",
       "1335   18  female  36.85         0     no  southeast   1629.8335\n",
       "1336   21  female  25.80         0     no  southwest   2007.9450\n",
       "1337   61  female  29.07         0    yes  northwest  29141.3603"
      ]
     },
     "execution_count": 5,
     "metadata": {},
     "output_type": "execute_result"
    }
   ],
   "source": [
    "data.tail() ## getting the last five rows of the data"
   ]
  },
  {
   "cell_type": "code",
   "execution_count": 6,
   "id": "ac66edb3",
   "metadata": {},
   "outputs": [
    {
     "data": {
      "text/html": [
       "<div>\n",
       "<style scoped>\n",
       "    .dataframe tbody tr th:only-of-type {\n",
       "        vertical-align: middle;\n",
       "    }\n",
       "\n",
       "    .dataframe tbody tr th {\n",
       "        vertical-align: top;\n",
       "    }\n",
       "\n",
       "    .dataframe thead th {\n",
       "        text-align: right;\n",
       "    }\n",
       "</style>\n",
       "<table border=\"1\" class=\"dataframe\">\n",
       "  <thead>\n",
       "    <tr style=\"text-align: right;\">\n",
       "      <th></th>\n",
       "      <th>age</th>\n",
       "      <th>bmi</th>\n",
       "      <th>children</th>\n",
       "      <th>charges</th>\n",
       "    </tr>\n",
       "  </thead>\n",
       "  <tbody>\n",
       "    <tr>\n",
       "      <th>count</th>\n",
       "      <td>1338.000000</td>\n",
       "      <td>1338.000000</td>\n",
       "      <td>1338.000000</td>\n",
       "      <td>1338.000000</td>\n",
       "    </tr>\n",
       "    <tr>\n",
       "      <th>mean</th>\n",
       "      <td>39.207025</td>\n",
       "      <td>30.663397</td>\n",
       "      <td>1.094918</td>\n",
       "      <td>13270.422265</td>\n",
       "    </tr>\n",
       "    <tr>\n",
       "      <th>std</th>\n",
       "      <td>14.049960</td>\n",
       "      <td>6.098187</td>\n",
       "      <td>1.205493</td>\n",
       "      <td>12110.011237</td>\n",
       "    </tr>\n",
       "    <tr>\n",
       "      <th>min</th>\n",
       "      <td>18.000000</td>\n",
       "      <td>15.960000</td>\n",
       "      <td>0.000000</td>\n",
       "      <td>1121.873900</td>\n",
       "    </tr>\n",
       "    <tr>\n",
       "      <th>25%</th>\n",
       "      <td>27.000000</td>\n",
       "      <td>26.296250</td>\n",
       "      <td>0.000000</td>\n",
       "      <td>4740.287150</td>\n",
       "    </tr>\n",
       "    <tr>\n",
       "      <th>50%</th>\n",
       "      <td>39.000000</td>\n",
       "      <td>30.400000</td>\n",
       "      <td>1.000000</td>\n",
       "      <td>9382.033000</td>\n",
       "    </tr>\n",
       "    <tr>\n",
       "      <th>75%</th>\n",
       "      <td>51.000000</td>\n",
       "      <td>34.693750</td>\n",
       "      <td>2.000000</td>\n",
       "      <td>16639.912515</td>\n",
       "    </tr>\n",
       "    <tr>\n",
       "      <th>max</th>\n",
       "      <td>64.000000</td>\n",
       "      <td>53.130000</td>\n",
       "      <td>5.000000</td>\n",
       "      <td>63770.428010</td>\n",
       "    </tr>\n",
       "  </tbody>\n",
       "</table>\n",
       "</div>"
      ],
      "text/plain": [
       "               age          bmi     children       charges\n",
       "count  1338.000000  1338.000000  1338.000000   1338.000000\n",
       "mean     39.207025    30.663397     1.094918  13270.422265\n",
       "std      14.049960     6.098187     1.205493  12110.011237\n",
       "min      18.000000    15.960000     0.000000   1121.873900\n",
       "25%      27.000000    26.296250     0.000000   4740.287150\n",
       "50%      39.000000    30.400000     1.000000   9382.033000\n",
       "75%      51.000000    34.693750     2.000000  16639.912515\n",
       "max      64.000000    53.130000     5.000000  63770.428010"
      ]
     },
     "execution_count": 6,
     "metadata": {},
     "output_type": "execute_result"
    }
   ],
   "source": [
    "data.describe()  ## getting the descriptive statistical details  of the dataframe"
   ]
  },
  {
   "cell_type": "code",
   "execution_count": 7,
   "id": "107e0724",
   "metadata": {},
   "outputs": [
    {
     "name": "stdout",
     "output_type": "stream",
     "text": [
      "<class 'pandas.core.frame.DataFrame'>\n",
      "RangeIndex: 1338 entries, 0 to 1337\n",
      "Data columns (total 7 columns):\n",
      " #   Column    Non-Null Count  Dtype  \n",
      "---  ------    --------------  -----  \n",
      " 0   age       1338 non-null   int64  \n",
      " 1   sex       1338 non-null   object \n",
      " 2   bmi       1338 non-null   float64\n",
      " 3   children  1338 non-null   int64  \n",
      " 4   smoker    1338 non-null   object \n",
      " 5   region    1338 non-null   object \n",
      " 6   charges   1338 non-null   float64\n",
      "dtypes: float64(2), int64(2), object(3)\n",
      "memory usage: 73.3+ KB\n"
     ]
    }
   ],
   "source": [
    "data.info() ## getting the information of the dataframe"
   ]
  },
  {
   "cell_type": "markdown",
   "id": "54f05a13",
   "metadata": {},
   "source": [
    "## Exploratory Data Analysis"
   ]
  },
  {
   "cell_type": "markdown",
   "id": "001a9d3f",
   "metadata": {},
   "source": [
    "## Univarient Analysis"
   ]
  },
  {
   "cell_type": "code",
   "execution_count": 8,
   "id": "df8ed78e",
   "metadata": {},
   "outputs": [
    {
     "data": {
      "text/html": [
       "<div>\n",
       "<style scoped>\n",
       "    .dataframe tbody tr th:only-of-type {\n",
       "        vertical-align: middle;\n",
       "    }\n",
       "\n",
       "    .dataframe tbody tr th {\n",
       "        vertical-align: top;\n",
       "    }\n",
       "\n",
       "    .dataframe thead th {\n",
       "        text-align: right;\n",
       "    }\n",
       "</style>\n",
       "<table border=\"1\" class=\"dataframe\">\n",
       "  <thead>\n",
       "    <tr style=\"text-align: right;\">\n",
       "      <th></th>\n",
       "      <th>age</th>\n",
       "      <th>sex</th>\n",
       "      <th>bmi</th>\n",
       "      <th>children</th>\n",
       "      <th>smoker</th>\n",
       "      <th>region</th>\n",
       "      <th>charges</th>\n",
       "    </tr>\n",
       "  </thead>\n",
       "  <tbody>\n",
       "    <tr>\n",
       "      <th>0</th>\n",
       "      <td>19</td>\n",
       "      <td>female</td>\n",
       "      <td>27.900</td>\n",
       "      <td>0</td>\n",
       "      <td>yes</td>\n",
       "      <td>southwest</td>\n",
       "      <td>16884.92400</td>\n",
       "    </tr>\n",
       "    <tr>\n",
       "      <th>1</th>\n",
       "      <td>18</td>\n",
       "      <td>male</td>\n",
       "      <td>33.770</td>\n",
       "      <td>1</td>\n",
       "      <td>no</td>\n",
       "      <td>southeast</td>\n",
       "      <td>1725.55230</td>\n",
       "    </tr>\n",
       "    <tr>\n",
       "      <th>2</th>\n",
       "      <td>28</td>\n",
       "      <td>male</td>\n",
       "      <td>33.000</td>\n",
       "      <td>3</td>\n",
       "      <td>no</td>\n",
       "      <td>southeast</td>\n",
       "      <td>4449.46200</td>\n",
       "    </tr>\n",
       "    <tr>\n",
       "      <th>3</th>\n",
       "      <td>33</td>\n",
       "      <td>male</td>\n",
       "      <td>22.705</td>\n",
       "      <td>0</td>\n",
       "      <td>no</td>\n",
       "      <td>northwest</td>\n",
       "      <td>21984.47061</td>\n",
       "    </tr>\n",
       "    <tr>\n",
       "      <th>4</th>\n",
       "      <td>32</td>\n",
       "      <td>male</td>\n",
       "      <td>28.880</td>\n",
       "      <td>0</td>\n",
       "      <td>no</td>\n",
       "      <td>northwest</td>\n",
       "      <td>3866.85520</td>\n",
       "    </tr>\n",
       "  </tbody>\n",
       "</table>\n",
       "</div>"
      ],
      "text/plain": [
       "   age     sex     bmi  children smoker     region      charges\n",
       "0   19  female  27.900         0    yes  southwest  16884.92400\n",
       "1   18    male  33.770         1     no  southeast   1725.55230\n",
       "2   28    male  33.000         3     no  southeast   4449.46200\n",
       "3   33    male  22.705         0     no  northwest  21984.47061\n",
       "4   32    male  28.880         0     no  northwest   3866.85520"
      ]
     },
     "execution_count": 8,
     "metadata": {},
     "output_type": "execute_result"
    }
   ],
   "source": [
    "data.head()"
   ]
  },
  {
   "cell_type": "code",
   "execution_count": 9,
   "id": "59b923f4",
   "metadata": {},
   "outputs": [
    {
     "data": {
      "text/plain": [
       "(1338, 7)"
      ]
     },
     "execution_count": 9,
     "metadata": {},
     "output_type": "execute_result"
    }
   ],
   "source": [
    "data.shape"
   ]
  },
  {
   "cell_type": "markdown",
   "id": "bc182f09",
   "metadata": {},
   "source": [
    "###### There are 1338 rows and 7 columns in this dataset"
   ]
  },
  {
   "cell_type": "code",
   "execution_count": 10,
   "id": "4a6c698c",
   "metadata": {},
   "outputs": [
    {
     "data": {
      "text/plain": [
       "47"
      ]
     },
     "execution_count": 10,
     "metadata": {},
     "output_type": "execute_result"
    }
   ],
   "source": [
    "## Analysing age\n",
    "\n",
    "data['age'].nunique()  ## finding the unique values in age column"
   ]
  },
  {
   "cell_type": "code",
   "execution_count": 11,
   "id": "c80b41a0",
   "metadata": {},
   "outputs": [
    {
     "data": {
      "text/plain": [
       "18    69\n",
       "19    68\n",
       "50    29\n",
       "51    29\n",
       "47    29\n",
       "46    29\n",
       "45    29\n",
       "20    29\n",
       "48    29\n",
       "52    29\n",
       "22    28\n",
       "49    28\n",
       "54    28\n",
       "53    28\n",
       "21    28\n",
       "26    28\n",
       "24    28\n",
       "25    28\n",
       "28    28\n",
       "27    28\n",
       "23    28\n",
       "43    27\n",
       "29    27\n",
       "30    27\n",
       "41    27\n",
       "42    27\n",
       "44    27\n",
       "31    27\n",
       "40    27\n",
       "32    26\n",
       "33    26\n",
       "56    26\n",
       "34    26\n",
       "55    26\n",
       "57    26\n",
       "37    25\n",
       "59    25\n",
       "58    25\n",
       "36    25\n",
       "38    25\n",
       "35    25\n",
       "39    25\n",
       "61    23\n",
       "60    23\n",
       "63    23\n",
       "62    23\n",
       "64    22\n",
       "Name: age, dtype: int64"
      ]
     },
     "execution_count": 11,
     "metadata": {},
     "output_type": "execute_result"
    }
   ],
   "source": [
    "data.age.value_counts() ## different ages"
   ]
  },
  {
   "cell_type": "code",
   "execution_count": 12,
   "id": "bc9df7ba",
   "metadata": {},
   "outputs": [
    {
     "data": {
      "image/png": "[encoded data removed]",
      "text/plain": [
       "<Figure size 1080x360 with 1 Axes>"
      ]
     },
     "metadata": {
      "needs_background": "light"
     },
     "output_type": "display_data"
    }
   ],
   "source": [
    "## Analysing age using count plot\n",
    "\n",
    "plt.figure(figsize=(15,5))\n",
    "sns.countplot(x='age',data=data)\n",
    "plt.show()"
   ]
  },
  {
   "cell_type": "code",
   "execution_count": 13,
   "id": "fd5075e4",
   "metadata": {},
   "outputs": [
    {
     "data": {
      "image/png": "[encoded data removed]",
      "text/plain": [
       "<Figure size 360x360 with 1 Axes>"
      ]
     },
     "metadata": {},
     "output_type": "display_data"
    }
   ],
   "source": [
    "## Analysing sex\n",
    "## Male vs Female ratio\n",
    "\n",
    "plt.figure(figsize=(5,5))\n",
    "labels=['male','female']\n",
    "size=data['sex'].value_counts()\n",
    "colors=['lightblue','pink']\n",
    "explode=[0,0.1]\n",
    "plt.pie(size,labels=labels,colors=colors,explode=explode,autopct='%.2f%%',shadow=True)\n",
    "plt.show()"
   ]
  },
  {
   "cell_type": "code",
   "execution_count": 14,
   "id": "aeae901b",
   "metadata": {},
   "outputs": [
    {
     "data": {
      "text/plain": [
       "<AxesSubplot:xlabel='bmi', ylabel='Density'>"
      ]
     },
     "execution_count": 14,
     "metadata": {},
     "output_type": "execute_result"
    },
    {
     "data": {
      "image/png": "[encoded data removed]",
      "text/plain": [
       "<Figure size 432x288 with 1 Axes>"
      ]
     },
     "metadata": {
      "needs_background": "light"
     },
     "output_type": "display_data"
    }
   ],
   "source": [
    "## Analysing bmi\n",
    "\n",
    "sns.distplot(data.bmi,color='red')"
   ]
  },
  {
   "cell_type": "code",
   "execution_count": 15,
   "id": "c3a97cc1",
   "metadata": {},
   "outputs": [
    {
     "data": {
      "image/png": "[encoded data removed]",
      "text/plain": [
       "<Figure size 432x360 with 1 Axes>"
      ]
     },
     "metadata": {
      "needs_background": "light"
     },
     "output_type": "display_data"
    }
   ],
   "source": [
    "## Analysing children using count plot\n",
    "\n",
    "plt.figure(figsize=(6,5))\n",
    "sns.countplot(x='children',data=data,palette='Set2')\n",
    "plt.show()\n",
    "\n"
   ]
  },
  {
   "cell_type": "code",
   "execution_count": 115,
   "id": "f176cdff",
   "metadata": {},
   "outputs": [
    {
     "data": {
      "image/png": "[encoded data removed]",
      "text/plain": [
       "<Figure size 432x288 with 1 Axes>"
      ]
     },
     "metadata": {},
     "output_type": "display_data"
    }
   ],
   "source": [
    "## Analysing smoker\n",
    "## smoker vs non-smoker ratio \n",
    "\n",
    "labels=['Non-Smoker','Smoker']\n",
    "size=data['smoker'].value_counts()\n",
    "colors=['#99ff99','#ffcc99']\n",
    "explode=(0,0.1)\n",
    "plt.pie(size,labels=labels,colors=colors,explode=explode,autopct='%2.f%%')\n",
    "circle = plt.Circle( (0,0),0.6, color='white')\n",
    "p=plt.gcf()\n",
    "p.gca().add_artist(circle)\n",
    "plt.show()"
   ]
  },
  {
   "cell_type": "code",
   "execution_count": 17,
   "id": "0cdf4de0",
   "metadata": {},
   "outputs": [
    {
     "data": {
      "image/png": "[encoded data removed]",
      "text/plain": [
       "<Figure size 504x360 with 1 Axes>"
      ]
     },
     "metadata": {
      "needs_background": "light"
     },
     "output_type": "display_data"
    }
   ],
   "source": [
    "## Analysing region using count plot\n",
    "\n",
    "plt.figure(figsize=(7,5))\n",
    "sns.countplot(x='region',data=data,palette='viridis')\n",
    "plt.show()"
   ]
  },
  {
   "cell_type": "code",
   "execution_count": 18,
   "id": "60472d65",
   "metadata": {},
   "outputs": [
    {
     "data": {
      "image/png": "[encoded data removed]",
      "text/plain": [
       "<Figure size 720x360 with 1 Axes>"
      ]
     },
     "metadata": {
      "needs_background": "light"
     },
     "output_type": "display_data"
    }
   ],
   "source": [
    "## Analysing charges \n",
    "\n",
    "plt.figure(figsize=(10,5))\n",
    "sns.distplot(data.charges,color='green',bins=10)\n",
    "plt.show()"
   ]
  },
  {
   "cell_type": "code",
   "execution_count": 19,
   "id": "74035f6c",
   "metadata": {},
   "outputs": [
    {
     "data": {
      "image/png": "[encoded data removed]",
      "text/plain": [
       "<Figure size 720x720 with 3 Axes>"
      ]
     },
     "metadata": {},
     "output_type": "display_data"
    }
   ],
   "source": [
    "##  checking outliers \n",
    "\n",
    "box=data[['age','bmi','children']]\n",
    "plt.figure(figsize=(10,10), facecolor='white')\n",
    "plotnumber = 1\n",
    "\n",
    "for column in box:#acc\n",
    "    if plotnumber<=3 : # as there are 7 columns in the data\n",
    "        ax = plt.subplot(3,1,plotnumber)#plotting 3 graphs\n",
    "        sns.boxplot(x=box[column],color='skyblue')#boxplot to check for outlier\n",
    "        plt.xlabel(column,fontsize=10)#assign name to x-axis and font size as 10\n",
    "        \n",
    "    plotnumber+=1#counter increment \n",
    "plt.show()#to show plot"
   ]
  },
  {
   "cell_type": "markdown",
   "id": "c83d7903",
   "metadata": {},
   "source": [
    "## Bivarient  and Multivarient analysis"
   ]
  },
  {
   "cell_type": "code",
   "execution_count": 20,
   "id": "ab39f05c",
   "metadata": {
    "scrolled": true
   },
   "outputs": [
    {
     "data": {
      "image/png": "[encoded data removed]",
      "text/plain": [
       "<Figure size 432x288 with 1 Axes>"
      ]
     },
     "metadata": {
      "needs_background": "light"
     },
     "output_type": "display_data"
    }
   ],
   "source": [
    "## Analysing bmi vs charges\n",
    "\n",
    "sns.scatterplot(x='bmi',y='charges',data=data,color='#8E388E')\n",
    "plt.show()"
   ]
  },
  {
   "cell_type": "code",
   "execution_count": 21,
   "id": "b29fb546",
   "metadata": {},
   "outputs": [
    {
     "data": {
      "image/png": "[encoded data removed]",
      "text/plain": [
       "<Figure size 1008x504 with 1 Axes>"
      ]
     },
     "metadata": {
      "needs_background": "light"
     },
     "output_type": "display_data"
    }
   ],
   "source": [
    "## Analysing age and charges by sex using line plot\n",
    "\n",
    "plt.figure(figsize=(14,7))\n",
    "sns.lineplot(data[\"age\"],data[\"charges\"],hue=data[\"sex\"],ci=0,palette='Accent').set(title= 'Cost for male and female')\n",
    "plt.legend=(1, 1)\n",
    "plt.show()"
   ]
  },
  {
   "cell_type": "code",
   "execution_count": 22,
   "id": "9464158c",
   "metadata": {},
   "outputs": [
    {
     "data": {
      "image/png": "[encoded data removed]",
      "text/plain": [
       "<Figure size 432x288 with 1 Axes>"
      ]
     },
     "metadata": {
      "needs_background": "light"
     },
     "output_type": "display_data"
    }
   ],
   "source": [
    "## Analysing children vs charges using count plot\n",
    "\n",
    "sns.barplot(x=data.children,y=data.charges,palette='twilight').set(title=\"Children vs Charges\")\n",
    "plt.show()"
   ]
  },
  {
   "cell_type": "code",
   "execution_count": 23,
   "id": "56389c4b",
   "metadata": {},
   "outputs": [
    {
     "data": {
      "image/png": "[encoded data removed]",
      "text/plain": [
       "<Figure size 720x360 with 1 Axes>"
      ]
     },
     "metadata": {
      "needs_background": "light"
     },
     "output_type": "display_data"
    }
   ],
   "source": [
    "#Analysing region vs smoker uisng count plot\n",
    "plt.figure(figsize=(10,5))\n",
    "sns.countplot(x='region',hue='smoker',color='skyblue',data=data).set(title=\"Smoker vs Region\")\n",
    "plt.show()"
   ]
  },
  {
   "cell_type": "code",
   "execution_count": 113,
   "id": "a39f9516",
   "metadata": {},
   "outputs": [
    {
     "data": {
      "image/png": "[encoded data removed]",
      "text/plain": [
       "<Figure size 576x504 with 2 Axes>"
      ]
     },
     "metadata": {
      "needs_background": "light"
     },
     "output_type": "display_data"
    }
   ],
   "source": [
    "##Heatmap to find the correlation\n",
    "\n",
    "plt.figure(figsize=(8,7))\n",
    "sns.heatmap(data.corr(),annot=True,cmap='gist_earth')\n",
    "plt.title(\"Heatmap\")\n",
    "plt.show()"
   ]
  },
  {
   "cell_type": "markdown",
   "id": "baa03772",
   "metadata": {},
   "source": [
    "## Data Preprocessing"
   ]
  },
  {
   "cell_type": "code",
   "execution_count": 24,
   "id": "2afecae1",
   "metadata": {},
   "outputs": [
    {
     "data": {
      "text/plain": [
       "age         0\n",
       "sex         0\n",
       "bmi         0\n",
       "children    0\n",
       "smoker      0\n",
       "region      0\n",
       "charges     0\n",
       "dtype: int64"
      ]
     },
     "execution_count": 24,
     "metadata": {},
     "output_type": "execute_result"
    }
   ],
   "source": [
    "# handling the missing values ## there is no missing values\n",
    "\n",
    "data.isnull().sum()"
   ]
  },
  {
   "cell_type": "code",
   "execution_count": 25,
   "id": "a1bfae66",
   "metadata": {},
   "outputs": [],
   "source": [
    "## converting categorical data to numerical data"
   ]
  },
  {
   "cell_type": "code",
   "execution_count": 26,
   "id": "55ed4857",
   "metadata": {},
   "outputs": [
    {
     "data": {
      "text/plain": [
       "array(['yes', 'no'], dtype=object)"
      ]
     },
     "execution_count": 26,
     "metadata": {},
     "output_type": "execute_result"
    }
   ],
   "source": [
    "data['smoker'].unique()  "
   ]
  },
  {
   "cell_type": "code",
   "execution_count": 27,
   "id": "9e8a6db3",
   "metadata": {},
   "outputs": [],
   "source": [
    "data.smoker=data.smoker.map({'yes':1,'no':0}) ## smoker=1,non-smoker=0"
   ]
  },
  {
   "cell_type": "code",
   "execution_count": 28,
   "id": "b0d297ae",
   "metadata": {},
   "outputs": [
    {
     "data": {
      "text/plain": [
       "array(['southwest', 'southeast', 'northwest', 'northeast'], dtype=object)"
      ]
     },
     "execution_count": 28,
     "metadata": {},
     "output_type": "execute_result"
    }
   ],
   "source": [
    "data['region'].unique()"
   ]
  },
  {
   "cell_type": "code",
   "execution_count": 29,
   "id": "b59646d7",
   "metadata": {},
   "outputs": [],
   "source": [
    "data.region=data.region.map({'southwest':0,'southeast':1,'northwest':2,'northeast':3})"
   ]
  },
  {
   "cell_type": "code",
   "execution_count": 30,
   "id": "474315c0",
   "metadata": {},
   "outputs": [],
   "source": [
    "data.sex=pd.get_dummies(data.sex,drop_first=True)  ## onehot encoding is done,female is 0 and male is 1"
   ]
  },
  {
   "cell_type": "code",
   "execution_count": 31,
   "id": "324bf3c8",
   "metadata": {},
   "outputs": [
    {
     "data": {
      "text/html": [
       "<div>\n",
       "<style scoped>\n",
       "    .dataframe tbody tr th:only-of-type {\n",
       "        vertical-align: middle;\n",
       "    }\n",
       "\n",
       "    .dataframe tbody tr th {\n",
       "        vertical-align: top;\n",
       "    }\n",
       "\n",
       "    .dataframe thead th {\n",
       "        text-align: right;\n",
       "    }\n",
       "</style>\n",
       "<table border=\"1\" class=\"dataframe\">\n",
       "  <thead>\n",
       "    <tr style=\"text-align: right;\">\n",
       "      <th></th>\n",
       "      <th>age</th>\n",
       "      <th>sex</th>\n",
       "      <th>bmi</th>\n",
       "      <th>children</th>\n",
       "      <th>smoker</th>\n",
       "      <th>region</th>\n",
       "      <th>charges</th>\n",
       "    </tr>\n",
       "  </thead>\n",
       "  <tbody>\n",
       "    <tr>\n",
       "      <th>0</th>\n",
       "      <td>19</td>\n",
       "      <td>0</td>\n",
       "      <td>27.900</td>\n",
       "      <td>0</td>\n",
       "      <td>1</td>\n",
       "      <td>0</td>\n",
       "      <td>16884.92400</td>\n",
       "    </tr>\n",
       "    <tr>\n",
       "      <th>1</th>\n",
       "      <td>18</td>\n",
       "      <td>1</td>\n",
       "      <td>33.770</td>\n",
       "      <td>1</td>\n",
       "      <td>0</td>\n",
       "      <td>1</td>\n",
       "      <td>1725.55230</td>\n",
       "    </tr>\n",
       "    <tr>\n",
       "      <th>2</th>\n",
       "      <td>28</td>\n",
       "      <td>1</td>\n",
       "      <td>33.000</td>\n",
       "      <td>3</td>\n",
       "      <td>0</td>\n",
       "      <td>1</td>\n",
       "      <td>4449.46200</td>\n",
       "    </tr>\n",
       "    <tr>\n",
       "      <th>3</th>\n",
       "      <td>33</td>\n",
       "      <td>1</td>\n",
       "      <td>22.705</td>\n",
       "      <td>0</td>\n",
       "      <td>0</td>\n",
       "      <td>2</td>\n",
       "      <td>21984.47061</td>\n",
       "    </tr>\n",
       "    <tr>\n",
       "      <th>4</th>\n",
       "      <td>32</td>\n",
       "      <td>1</td>\n",
       "      <td>28.880</td>\n",
       "      <td>0</td>\n",
       "      <td>0</td>\n",
       "      <td>2</td>\n",
       "      <td>3866.85520</td>\n",
       "    </tr>\n",
       "  </tbody>\n",
       "</table>\n",
       "</div>"
      ],
      "text/plain": [
       "   age  sex     bmi  children  smoker  region      charges\n",
       "0   19    0  27.900         0       1       0  16884.92400\n",
       "1   18    1  33.770         1       0       1   1725.55230\n",
       "2   28    1  33.000         3       0       1   4449.46200\n",
       "3   33    1  22.705         0       0       2  21984.47061\n",
       "4   32    1  28.880         0       0       2   3866.85520"
      ]
     },
     "execution_count": 31,
     "metadata": {},
     "output_type": "execute_result"
    }
   ],
   "source": [
    "data.head()"
   ]
  },
  {
   "cell_type": "markdown",
   "id": "9dc31a8d",
   "metadata": {},
   "source": [
    "## Model creation"
   ]
  },
  {
   "cell_type": "code",
   "execution_count": 32,
   "id": "ab8591c7",
   "metadata": {},
   "outputs": [],
   "source": [
    "## defining independent and dependent variables\n",
    "\n",
    "x=data.iloc[:,0:-1] # independent variables\n",
    "y=data.charges  # dependent variable"
   ]
  },
  {
   "cell_type": "code",
   "execution_count": 33,
   "id": "27bd6a12",
   "metadata": {},
   "outputs": [
    {
     "data": {
      "text/html": [
       "<div>\n",
       "<style scoped>\n",
       "    .dataframe tbody tr th:only-of-type {\n",
       "        vertical-align: middle;\n",
       "    }\n",
       "\n",
       "    .dataframe tbody tr th {\n",
       "        vertical-align: top;\n",
       "    }\n",
       "\n",
       "    .dataframe thead th {\n",
       "        text-align: right;\n",
       "    }\n",
       "</style>\n",
       "<table border=\"1\" class=\"dataframe\">\n",
       "  <thead>\n",
       "    <tr style=\"text-align: right;\">\n",
       "      <th></th>\n",
       "      <th>age</th>\n",
       "      <th>sex</th>\n",
       "      <th>bmi</th>\n",
       "      <th>children</th>\n",
       "      <th>smoker</th>\n",
       "      <th>region</th>\n",
       "    </tr>\n",
       "  </thead>\n",
       "  <tbody>\n",
       "    <tr>\n",
       "      <th>0</th>\n",
       "      <td>19</td>\n",
       "      <td>0</td>\n",
       "      <td>27.900</td>\n",
       "      <td>0</td>\n",
       "      <td>1</td>\n",
       "      <td>0</td>\n",
       "    </tr>\n",
       "    <tr>\n",
       "      <th>1</th>\n",
       "      <td>18</td>\n",
       "      <td>1</td>\n",
       "      <td>33.770</td>\n",
       "      <td>1</td>\n",
       "      <td>0</td>\n",
       "      <td>1</td>\n",
       "    </tr>\n",
       "    <tr>\n",
       "      <th>2</th>\n",
       "      <td>28</td>\n",
       "      <td>1</td>\n",
       "      <td>33.000</td>\n",
       "      <td>3</td>\n",
       "      <td>0</td>\n",
       "      <td>1</td>\n",
       "    </tr>\n",
       "    <tr>\n",
       "      <th>3</th>\n",
       "      <td>33</td>\n",
       "      <td>1</td>\n",
       "      <td>22.705</td>\n",
       "      <td>0</td>\n",
       "      <td>0</td>\n",
       "      <td>2</td>\n",
       "    </tr>\n",
       "    <tr>\n",
       "      <th>4</th>\n",
       "      <td>32</td>\n",
       "      <td>1</td>\n",
       "      <td>28.880</td>\n",
       "      <td>0</td>\n",
       "      <td>0</td>\n",
       "      <td>2</td>\n",
       "    </tr>\n",
       "    <tr>\n",
       "      <th>...</th>\n",
       "      <td>...</td>\n",
       "      <td>...</td>\n",
       "      <td>...</td>\n",
       "      <td>...</td>\n",
       "      <td>...</td>\n",
       "      <td>...</td>\n",
       "    </tr>\n",
       "    <tr>\n",
       "      <th>1333</th>\n",
       "      <td>50</td>\n",
       "      <td>1</td>\n",
       "      <td>30.970</td>\n",
       "      <td>3</td>\n",
       "      <td>0</td>\n",
       "      <td>2</td>\n",
       "    </tr>\n",
       "    <tr>\n",
       "      <th>1334</th>\n",
       "      <td>18</td>\n",
       "      <td>0</td>\n",
       "      <td>31.920</td>\n",
       "      <td>0</td>\n",
       "      <td>0</td>\n",
       "      <td>3</td>\n",
       "    </tr>\n",
       "    <tr>\n",
       "      <th>1335</th>\n",
       "      <td>18</td>\n",
       "      <td>0</td>\n",
       "      <td>36.850</td>\n",
       "      <td>0</td>\n",
       "      <td>0</td>\n",
       "      <td>1</td>\n",
       "    </tr>\n",
       "    <tr>\n",
       "      <th>1336</th>\n",
       "      <td>21</td>\n",
       "      <td>0</td>\n",
       "      <td>25.800</td>\n",
       "      <td>0</td>\n",
       "      <td>0</td>\n",
       "      <td>0</td>\n",
       "    </tr>\n",
       "    <tr>\n",
       "      <th>1337</th>\n",
       "      <td>61</td>\n",
       "      <td>0</td>\n",
       "      <td>29.070</td>\n",
       "      <td>0</td>\n",
       "      <td>1</td>\n",
       "      <td>2</td>\n",
       "    </tr>\n",
       "  </tbody>\n",
       "</table>\n",
       "<p>1338 rows × 6 columns</p>\n",
       "</div>"
      ],
      "text/plain": [
       "      age  sex     bmi  children  smoker  region\n",
       "0      19    0  27.900         0       1       0\n",
       "1      18    1  33.770         1       0       1\n",
       "2      28    1  33.000         3       0       1\n",
       "3      33    1  22.705         0       0       2\n",
       "4      32    1  28.880         0       0       2\n",
       "...   ...  ...     ...       ...     ...     ...\n",
       "1333   50    1  30.970         3       0       2\n",
       "1334   18    0  31.920         0       0       3\n",
       "1335   18    0  36.850         0       0       1\n",
       "1336   21    0  25.800         0       0       0\n",
       "1337   61    0  29.070         0       1       2\n",
       "\n",
       "[1338 rows x 6 columns]"
      ]
     },
     "execution_count": 33,
     "metadata": {},
     "output_type": "execute_result"
    }
   ],
   "source": [
    "x"
   ]
  },
  {
   "cell_type": "code",
   "execution_count": 34,
   "id": "cd57fac4",
   "metadata": {},
   "outputs": [
    {
     "data": {
      "text/plain": [
       "0       16884.92400\n",
       "1        1725.55230\n",
       "2        4449.46200\n",
       "3       21984.47061\n",
       "4        3866.85520\n",
       "           ...     \n",
       "1333    10600.54830\n",
       "1334     2205.98080\n",
       "1335     1629.83350\n",
       "1336     2007.94500\n",
       "1337    29141.36030\n",
       "Name: charges, Length: 1338, dtype: float64"
      ]
     },
     "execution_count": 34,
     "metadata": {},
     "output_type": "execute_result"
    }
   ],
   "source": [
    "y"
   ]
  },
  {
   "cell_type": "code",
   "execution_count": 35,
   "id": "e84824af",
   "metadata": {},
   "outputs": [],
   "source": [
    "## Defining the training data and the testing data\n",
    "\n",
    "from sklearn.model_selection import train_test_split\n",
    "x_train,x_test,y_train,y_test=train_test_split(x,y,test_size=0.25,random_state=42)"
   ]
  },
  {
   "cell_type": "code",
   "execution_count": 36,
   "id": "ea39e704",
   "metadata": {},
   "outputs": [
    {
     "data": {
      "text/plain": [
       "(1003, 6)"
      ]
     },
     "execution_count": 36,
     "metadata": {},
     "output_type": "execute_result"
    }
   ],
   "source": [
    "x_train.shape"
   ]
  },
  {
   "cell_type": "code",
   "execution_count": 37,
   "id": "cd6cf9b3",
   "metadata": {},
   "outputs": [
    {
     "data": {
      "text/plain": [
       "(335, 6)"
      ]
     },
     "execution_count": 37,
     "metadata": {},
     "output_type": "execute_result"
    }
   ],
   "source": [
    "x_test.shape"
   ]
  },
  {
   "cell_type": "code",
   "execution_count": 38,
   "id": "37574a0a",
   "metadata": {},
   "outputs": [],
   "source": [
    "from sklearn.linear_model import LinearRegression   ## importing the model library\n",
    "\n",
    "LR=LinearRegression()  ## importing the model object\n",
    "LR.fit(x_train,y_train) ## fitting the training data\n",
    "\n",
    "x_test_pred=LR.predict(x_test)"
   ]
  },
  {
   "cell_type": "code",
   "execution_count": 39,
   "id": "b7e9c324",
   "metadata": {},
   "outputs": [
    {
     "data": {
      "text/plain": [
       "array([ 8917.54106359,  7057.659731  , 36899.8708097 ,  9546.15877323,\n",
       "       26950.91414625, 10756.81129984,   110.22869716, 17039.89853046,\n",
       "         986.98094539, 11318.40928727, 27959.29316402,  9452.32982265,\n",
       "        5222.10612385, 38466.47603466, 40340.10507845, 37149.4535954 ,\n",
       "       15259.14589125, 35895.17954336,  9120.84172439, 31442.58115369,\n",
       "        3723.95224278, 10051.46909241,  2217.99081229,  7016.63069487,\n",
       "       11338.01161132, 12930.95780971, 14408.72962928,  6129.47379121,\n",
       "        9917.59150303,  2169.52986706,  8966.46437456, 13123.3402391 ,\n",
       "        4495.28487533,  3386.82377135,  4329.78730663, 13041.80740785,\n",
       "        1768.87632392,  8665.74216929, 33280.34641384, 32602.75057167,\n",
       "        3700.75706773,  4343.42320809, 14032.7103358 , 11545.84902818,\n",
       "        8813.53969858, 12062.88158511,  5231.42419487,  2955.58371562,\n",
       "       35536.42907912,  9183.63264624, 15891.85804801,  2337.51811118,\n",
       "       12367.13541434,  1414.32988846, 13490.60701704, 12602.54262341,\n",
       "        4308.63712233, 32184.47042804, 13214.87046964, 12863.21030069,\n",
       "       14076.04891269, 10469.90391052, 16336.37459362,  7774.84187511,\n",
       "       11802.82508563,  4029.33108287, 26486.15437683, 11027.11256277,\n",
       "        2096.97771302,  6064.83727901, 10721.637692  , 11578.95483677,\n",
       "       10992.72983587,  9223.39533917, 12023.20206194,  6724.90862846,\n",
       "        7213.13735107, 10782.13217754,  6539.12856312,  8624.88453698,\n",
       "        3764.48881283, 36663.2782185 ,  6200.97940875, 30697.37330127,\n",
       "       34822.63669716, 35273.93782926,  7052.54515928, 12971.94926369,\n",
       "        9955.94708085, 14425.93642753, 17690.14465368, 35287.98215389,\n",
       "       32952.46896641,  6160.02799477, 32008.52001777,  9396.90376288,\n",
       "       29449.90913095,  3605.1142754 , 28258.12976573,  5742.46142266,\n",
       "        5381.60780509,  1664.2576616 , 11557.59487047, 15037.01991362,\n",
       "       11756.24528626,  4302.57000461,  9966.60325688, 31773.09447727,\n",
       "        -154.6780985 , 32819.84880692,  3128.04915059, 10200.41192704,\n",
       "       14301.90324008, 31527.4016393 , 11418.71510632,  3781.73762207,\n",
       "       13161.4440507 , 31637.18162798,  8136.43797073,  3258.43015527,\n",
       "        8353.18591653, 10669.11152682, 15187.49700717,  5656.73092568,\n",
       "        3752.40191715, 10236.71948791, 10899.50402294, 11146.65457966,\n",
       "       14481.60979581,  7436.06478476,  5351.73682708,  9278.81110978,\n",
       "        9322.21283643, 12481.33308429,  8176.20509249, 15298.64456573,\n",
       "        8386.36876005, 31682.70260182, 35769.06462731, 31495.2441935 ,\n",
       "        6000.98088264, 12567.61242682,  6028.1669944 , 14600.26662855,\n",
       "        2505.56838628, 32873.78792075,  6316.68348629,  4850.12062237,\n",
       "       14383.67223845,  6837.15505254, 38686.02068531,  3038.92613974,\n",
       "        5877.17494902, 31632.17523319, 11559.20840188,  8454.11626908,\n",
       "       14865.94705571,  9825.63007022, 27004.82350926, 33422.95758074,\n",
       "       14537.30321296,  1626.45151654, 13149.34824172,  2169.3348587 ,\n",
       "        5315.27963663, 11634.37198323, 39687.19863024, 36521.69996   ,\n",
       "       33982.1327573 ,  3695.36537895,  7326.26344848,  8502.6108992 ,\n",
       "       12443.19892672,  4857.08907584,  1837.16491074, 32161.52674473,\n",
       "       24930.43619304, 17608.77930012, 26365.07282581, 10209.46826332,\n",
       "       37227.23025232,  -564.69506257,  6869.64578397,  7607.72659178,\n",
       "        4338.69867986,  5059.92848968,  5885.19471733,  4118.36758503,\n",
       "       15201.71543907, 11242.83842092,  6798.33766942,  2390.84298069,\n",
       "        1413.03074146, 31802.63856156, 16532.89066583, 12031.87779961,\n",
       "        1210.18409143, 12505.18176293,  1430.22584581,  8607.96315303,\n",
       "        1833.26353568, 33989.66761847, 10888.81360368,  2614.44923996,\n",
       "       25578.8601484 , 26265.98073498,  9527.2163158 ,  1756.14427962,\n",
       "       13339.61497166,   920.83166256, 10358.91326598, 10607.59334007,\n",
       "       16894.36964973, 26832.86045116,  6999.14407026,  5093.02678758,\n",
       "        5816.67245802, 13280.05779047, 11145.06500231,  8338.54267428,\n",
       "        5080.82996073, 12386.82952021, 13914.03902275, 35813.35824484,\n",
       "        4172.06437753, 28909.81325758, -1133.32908206,  2880.12243093,\n",
       "       11135.71770411, 15706.35173195,  5210.80617505,  6921.13180455,\n",
       "        3668.66165292, 31201.04452143,  7277.06445403, 12487.19238307,\n",
       "        5650.32749613,  9442.13932242, 36283.94759108,  4432.53648811,\n",
       "        9655.0771802 , 31013.24977451,  5704.04627963,  4553.72266831,\n",
       "        1054.94987468,  4859.32183875,  4386.26078398,  6394.60088835,\n",
       "       18693.15757914, -1538.71638948,  2160.06964827, 10609.43802256,\n",
       "        2958.21428978, 10188.30778985,  3675.76807093,  5072.45719952,\n",
       "       12367.11122259,  6247.46237347,  8253.5472003 ,  7500.02334453,\n",
       "        8931.42567829, 10544.49944175, 27797.18395273, 39154.66599301,\n",
       "       11814.20318814,  7679.68343157, 40920.24487583, 12194.06182569,\n",
       "        7117.2353475 ,  8294.05099542,  9177.32686677, 11125.19646852,\n",
       "       10136.05537396, 17682.5964215 ,   893.40070806, 23499.84619171,\n",
       "       12650.28469514, 33123.65334017,  5178.50938884, 13248.73962056,\n",
       "       10403.96132784, 17771.10715109,  9821.65332204, 11480.47115671,\n",
       "       32124.5231745 ,  3265.44701162, 13682.92407652, 39412.79599671,\n",
       "        5472.63365892,  6136.43831854,  3319.43954439, 11317.85149954,\n",
       "       25428.80452628, 14122.60868413,  9358.61024491, 10065.2310189 ,\n",
       "       13564.6978877 ,   843.64395475,  2456.41586052, 30725.21622669,\n",
       "       29873.38202887, 13635.4929867 ,  3687.02404568, 25393.16213404,\n",
       "       13530.97923951, 30727.23090827,  3390.89342012, 39006.69596999,\n",
       "       11223.84478211,  4865.04204274,  6700.2924646 ,  2559.97681609,\n",
       "       25884.45292694, 14288.06007803,   435.08106925, 12682.72204443,\n",
       "       12748.74222039, 14952.21916205, 35052.75631715, 14390.94809722,\n",
       "       31660.1862235 ,  9911.10543529, 18103.23344774,  5841.15315197,\n",
       "        9009.61237193,  9256.68225353, 15367.74355077,  9001.04597822,\n",
       "        8308.57264147, 14934.15496741, 12761.07258295, 14755.05987542,\n",
       "        7352.51899731, 26088.98097292,  9295.93137048])"
      ]
     },
     "execution_count": 39,
     "metadata": {},
     "output_type": "execute_result"
    }
   ],
   "source": [
    "x_test_pred"
   ]
  },
  {
   "cell_type": "code",
   "execution_count": 40,
   "id": "b4e962d5",
   "metadata": {},
   "outputs": [
    {
     "data": {
      "text/plain": [
       "764      9095.06825\n",
       "887      5272.17580\n",
       "890     29330.98315\n",
       "1293     9301.89355\n",
       "259     33750.29180\n",
       "           ...     \n",
       "342     13217.09450\n",
       "308     11944.59435\n",
       "1128    14358.36437\n",
       "503     32548.34050\n",
       "1197     5699.83750\n",
       "Name: charges, Length: 335, dtype: float64"
      ]
     },
     "execution_count": 40,
     "metadata": {},
     "output_type": "execute_result"
    }
   ],
   "source": [
    "y_test"
   ]
  },
  {
   "cell_type": "code",
   "execution_count": 41,
   "id": "44c47c8c",
   "metadata": {},
   "outputs": [
    {
     "data": {
      "text/plain": [
       "array([ 1841.97541608,  4351.61796476, 14096.02955164, ...,\n",
       "       11488.96161685, 37122.4816677 , 11404.8151864 ])"
      ]
     },
     "execution_count": 41,
     "metadata": {},
     "output_type": "execute_result"
    }
   ],
   "source": [
    "x_train_pred=LR.predict(x_train)\n",
    "\n",
    "x_train_pred"
   ]
  },
  {
   "cell_type": "code",
   "execution_count": 42,
   "id": "a3e5f48d",
   "metadata": {},
   "outputs": [
    {
     "data": {
      "text/plain": [
       "693      2352.96845\n",
       "1297     4340.44090\n",
       "634      9391.34600\n",
       "1022    42211.13820\n",
       "178      8823.27900\n",
       "           ...     \n",
       "1095     4561.18850\n",
       "1130     8582.30230\n",
       "1294    11931.12525\n",
       "860     46113.51100\n",
       "1126    10214.63600\n",
       "Name: charges, Length: 1003, dtype: float64"
      ]
     },
     "execution_count": 42,
     "metadata": {},
     "output_type": "execute_result"
    }
   ],
   "source": [
    "y_train"
   ]
  },
  {
   "cell_type": "markdown",
   "id": "21a4b45f",
   "metadata": {},
   "source": [
    "## Model Evaluation :- Linear Regression"
   ]
  },
  {
   "cell_type": "code",
   "execution_count": 43,
   "id": "b342ea30",
   "metadata": {},
   "outputs": [],
   "source": [
    "from sklearn.metrics import r2_score,mean_squared_error,mean_absolute_error"
   ]
  },
  {
   "cell_type": "code",
   "execution_count": 44,
   "id": "dc1a1001",
   "metadata": {},
   "outputs": [],
   "source": [
    "## prediction on training data\n",
    "\n",
    "train_score=r2_score(y_train,x_train_pred)"
   ]
  },
  {
   "cell_type": "code",
   "execution_count": 45,
   "id": "80167731",
   "metadata": {},
   "outputs": [
    {
     "name": "stdout",
     "output_type": "stream",
     "text": [
      "Linear Regression training score : 0.7449087316606229\n"
     ]
    }
   ],
   "source": [
    "print('Linear Regression training score :',train_score)"
   ]
  },
  {
   "cell_type": "code",
   "execution_count": 46,
   "id": "54f4d28f",
   "metadata": {},
   "outputs": [
    {
     "name": "stdout",
     "output_type": "stream",
     "text": [
      "Linear Regression testing score : 0.7668905583460908\n"
     ]
    }
   ],
   "source": [
    "## prediction on testing data\n",
    "\n",
    "test_score=r2_score(y_test,x_test_pred)\n",
    "\n",
    "print('Linear Regression testing score :',test_score)"
   ]
  },
  {
   "cell_type": "code",
   "execution_count": 47,
   "id": "9638472e",
   "metadata": {},
   "outputs": [
    {
     "name": "stdout",
     "output_type": "stream",
     "text": [
      "MSE: 37011292.58315399\n",
      "MAE: 4182.669944366752\n"
     ]
    }
   ],
   "source": [
    "## mean squared error and mean absolute error of training data\n",
    "\n",
    "print('MSE:',mean_squared_error(y_train,x_train_pred))\n",
    "print('MAE:',mean_absolute_error(y_train,x_train_pred))"
   ]
  },
  {
   "cell_type": "code",
   "execution_count": 48,
   "id": "5ed12f59",
   "metadata": {},
   "outputs": [
    {
     "name": "stdout",
     "output_type": "stream",
     "text": [
      "MSE 35174149.32705307\n",
      "MAE 4252.856455792366\n"
     ]
    }
   ],
   "source": [
    "## mean squared error and mean absolute error of testing data\n",
    "\n",
    "print('MSE',mean_squared_error(y_test,x_test_pred))\n",
    "print('MAE',mean_absolute_error(y_test,x_test_pred))"
   ]
  },
  {
   "cell_type": "code",
   "execution_count": 49,
   "id": "a173df3b",
   "metadata": {},
   "outputs": [
    {
     "name": "stdout",
     "output_type": "stream",
     "text": [
      "5930.779824530082\n"
     ]
    }
   ],
   "source": [
    "## Root mean squared error\n",
    "\n",
    "import math\n",
    "print(math.sqrt(mean_squared_error(y_test,x_test_pred)))"
   ]
  },
  {
   "cell_type": "code",
   "execution_count": 50,
   "id": "0c48fed1",
   "metadata": {},
   "outputs": [
    {
     "data": {
      "text/plain": [
       "((1003, 6), (335, 6))"
      ]
     },
     "execution_count": 50,
     "metadata": {},
     "output_type": "execute_result"
    }
   ],
   "source": [
    "x_train.shape,x_test.shape"
   ]
  },
  {
   "cell_type": "code",
   "execution_count": 51,
   "id": "1fc756b5",
   "metadata": {},
   "outputs": [
    {
     "data": {
      "text/plain": [
       "0.7082530120481927"
      ]
     },
     "execution_count": 51,
     "metadata": {},
     "output_type": "execute_result"
    }
   ],
   "source": [
    "## adjusted r2 score\n",
    "\n",
    "train_adjusted_r2score=1-(1-0.71)*(1003-1)/(1003-6-1)\n",
    "train_adjusted_r2score"
   ]
  },
  {
   "cell_type": "code",
   "execution_count": 52,
   "id": "64eeb804",
   "metadata": {},
   "outputs": [
    {
     "data": {
      "text/plain": [
       "0.7352439024390244"
      ]
     },
     "execution_count": 52,
     "metadata": {},
     "output_type": "execute_result"
    }
   ],
   "source": [
    "test_adjusted_r2score=1-(1-0.74)*(335-1)/(335-6-1)\n",
    "test_adjusted_r2score"
   ]
  },
  {
   "cell_type": "markdown",
   "id": "83cd9165",
   "metadata": {},
   "source": [
    "## Model Evaluation :- Decision Tree Regressor"
   ]
  },
  {
   "cell_type": "code",
   "execution_count": 53,
   "id": "0c271f63",
   "metadata": {},
   "outputs": [
    {
     "data": {
      "text/plain": [
       "array([28340.18885,  5469.0066 , 28950.4692 ,  9500.57305, 33732.6867 ,\n",
       "       11326.71487,  2128.43105, 14313.8463 ,  2680.9493 ,  9249.4952 ,\n",
       "       19361.9988 ,  6600.361  ,  3956.07145, 46200.9851 , 48173.361  ,\n",
       "       48885.13561, 10806.839  , 42760.5022 , 10702.6424 , 21348.706  ,\n",
       "        5615.369  , 18806.14547,  1253.936  ,  2741.948  , 10493.9458 ,\n",
       "       10435.06525, 12648.7034 ,  4618.0799 ,  9447.25035,  1135.9407 ,\n",
       "        7682.67   , 11840.77505,  2026.9741 ,  5325.651  ,  2902.9065 ,\n",
       "        9704.66805,  2331.519  ,  7633.7206 , 22218.1149 , 37742.5757 ,\n",
       "       18838.70366,  2639.0429 , 10976.24575, 12142.5786 ,  5989.52365,\n",
       "       12913.9924 ,  4830.63   ,  5615.369  , 40273.6455 ,  4673.3922 ,\n",
       "       13981.85035,  2801.2588 ,  6393.60345,  1708.0014 , 10976.24575,\n",
       "       10370.91255,  3736.4647 , 39983.42595, 12231.6136 , 27346.04207,\n",
       "       13393.756  ,  4949.7587 , 15555.18875,  7201.70085, 20878.78443,\n",
       "       12609.88702, 16232.847  ,  8782.469  ,  3176.8159 ,  1526.312  ,\n",
       "        6600.20595,  8116.26885,  8871.1517 ,  6986.697  ,  7147.4728 ,\n",
       "        4399.731  ,  4661.28635, 12629.1656 ,  3981.9768 ,  8615.3    ,\n",
       "        1135.9407 , 28950.4692 ,  4934.705  , 37484.4493 , 42112.2356 ,\n",
       "       41919.097  ,  5425.02335, 10807.4863 ,  8410.04685, 12495.29085,\n",
       "       31620.00106, 25678.77845, 38245.59327,  4435.0942 , 51194.55914,\n",
       "        6986.697  , 19350.3689 ,  1880.487  , 17361.7661 ,  7133.9025 ,\n",
       "        4151.0287 ,  1744.465  ,  6474.013  , 13430.265  , 13616.3586 ,\n",
       "        1725.5523 ,  8520.026  , 22412.6485 ,  1704.5681 , 22218.1149 ,\n",
       "        1261.442  ,  2902.9065 , 12430.95335, 39983.42595,  9290.1395 ,\n",
       "       26018.95052, 12730.9996 , 21348.706  ,  6311.952  , 12609.88702,\n",
       "        5148.5526 ,  7160.3303 ,  8342.90875,  2498.4144 ,  4189.1131 ,\n",
       "        7209.4918 ,  7633.7206 ,  9290.1395 , 21797.0004 ,  1824.2854 ,\n",
       "        3757.8448 ,  6184.2994 ,  5846.9176 ,  8342.90875,  5662.225  ,\n",
       "       28287.89766,  4320.41085, 38998.546  , 48885.13561, 39597.4072 ,\n",
       "        5266.3656 , 20878.78443,  2498.4144 ,  8023.13545,  1981.5819 ,\n",
       "       23807.2406 ,  5257.50795,  3353.284  , 10848.1343 ,  4747.0529 ,\n",
       "       60021.39897,  3046.062  ,  1149.3959 , 39983.42595,  6393.60345,\n",
       "        4320.41085, 14043.4767 , 21232.18226, 36397.576  , 40182.246  ,\n",
       "       12268.63225,  2709.24395, 16455.70785, 23288.9284 ,  4260.744  ,\n",
       "        7371.772  , 48173.361  , 45710.20785, 39727.614  , 18955.22017,\n",
       "        9855.1314 ,  5976.8311 ,  6600.20595,  4243.59005,  2007.945  ,\n",
       "       21677.28345, 16884.924  , 14313.8463 , 16420.49455, 11833.7823 ,\n",
       "       28950.4692 ,  2709.24395,  8627.5411 ,  5246.047  ,  4827.90495,\n",
       "        2850.68375,  4040.55825,  3353.284  ,  8240.5896 , 10796.35025,\n",
       "        4260.744  ,  2200.83085,  2585.85065, 39241.442  , 12982.8747 ,\n",
       "        9140.951  ,  2709.24395, 11881.358  ,  2196.4732 ,  9861.025  ,\n",
       "        3176.8159 , 23065.4207 ,  4686.3887 ,  2803.69785, 16232.847  ,\n",
       "       17496.306  , 25656.57526, 18838.70366,  8083.9198 ,  4766.022  ,\n",
       "       13451.122  , 12032.326  ,  9541.69555, 18310.742  ,  6710.1919 ,\n",
       "        3866.8552 ,  4350.5144 , 14001.1338 , 12323.936  ,  5246.047  ,\n",
       "        2026.9741 ,  8023.13545,  6796.86325, 48885.13561,  1909.52745,\n",
       "       37742.5757 ,  1728.897  ,  1639.5631 ,  9724.53   , 10381.4787 ,\n",
       "        1532.4697 ,  9264.797  ,  4906.40965, 23065.4207 ,  9264.797  ,\n",
       "        8124.4084 ,  4058.71245,  6571.02435, 45863.205  ,  1532.4697 ,\n",
       "       13012.20865, 39241.442  ,  3213.62205,  3392.3652 ,  1632.56445,\n",
       "        2897.3235 ,  3987.926  ,  4074.4537 , 10381.4787 ,  1625.43375,\n",
       "        1877.9294 ,  7418.522  ,  3172.018  , 11833.7823 ,  2709.24395,\n",
       "        3227.1211 , 12730.9996 ,  2902.9065 ,  9361.3268 ,  4661.28635,\n",
       "        8162.71625, 13616.3586 , 19350.3689 , 46599.1084 , 11073.176  ,\n",
       "        6600.20595, 47462.894  ,  9386.1613 ,  8605.3615 ,  8026.6666 ,\n",
       "        9861.025  , 23563.01618, 12479.70895, 13887.9685 ,  2007.945  ,\n",
       "       14283.4594 ,  6600.20595, 40182.246  ,  6746.7425 ,  8457.818  ,\n",
       "       20878.78443, 14410.9321 ,  7742.1098 ,  9174.13565, 37079.372  ,\n",
       "        2523.1695 ,  9880.068  , 47462.894  ,  4040.55825,  2727.3951 ,\n",
       "        2207.69745, 11554.2236 , 16776.30405, 28468.91901,  8615.3    ,\n",
       "       11013.7119 , 10325.206  ,  4766.022  ,  2156.7518 , 39611.7577 ,\n",
       "       37079.372  , 23563.01618,  3056.3881 , 15518.18025, 12928.7911 ,\n",
       "       51194.55914,  2203.73595, 46599.1084 ,  5989.52365,  1631.8212 ,\n",
       "        7151.092  ,  2801.2588 , 14571.8908 , 13470.8044 ,  1964.78   ,\n",
       "       27322.73386, 10807.4863 , 12231.6136 , 43753.33705, 12269.68865,\n",
       "       35069.37452,  7682.67   , 15555.18875,  4149.736  ,  8601.3293 ,\n",
       "        8516.829  , 14001.1338 , 10577.087  ,  3201.24515, 10602.385  ,\n",
       "       12638.195  , 11743.9341 ,  4894.7533 , 33307.5508 ,  6571.02435])"
      ]
     },
     "execution_count": 53,
     "metadata": {},
     "output_type": "execute_result"
    }
   ],
   "source": [
    "from sklearn.tree import DecisionTreeRegressor ## importing decision tree from sklearn.tree\n",
    "\n",
    "dtr=DecisionTreeRegressor(criterion='mse',splitter='best',random_state=42)\n",
    "dtr.fit(x_train,y_train)  ## training the model\n",
    "x_test_pred=dtr.predict(x_test)  ## predicting\n",
    "x_test_pred ## x --predicted testing data"
   ]
  },
  {
   "cell_type": "code",
   "execution_count": 54,
   "id": "68217249",
   "metadata": {},
   "outputs": [
    {
     "data": {
      "text/plain": [
       "764      9095.06825\n",
       "887      5272.17580\n",
       "890     29330.98315\n",
       "1293     9301.89355\n",
       "259     33750.29180\n",
       "           ...     \n",
       "342     13217.09450\n",
       "308     11944.59435\n",
       "1128    14358.36437\n",
       "503     32548.34050\n",
       "1197     5699.83750\n",
       "Name: charges, Length: 335, dtype: float64"
      ]
     },
     "execution_count": 54,
     "metadata": {},
     "output_type": "execute_result"
    }
   ],
   "source": [
    "y_test ## y-- testing data"
   ]
  },
  {
   "cell_type": "code",
   "execution_count": 55,
   "id": "bc21d65a",
   "metadata": {},
   "outputs": [
    {
     "data": {
      "text/plain": [
       "array([ 2352.96845,  4340.4409 ,  9391.346  , ..., 11931.12525,\n",
       "       46113.511  , 10214.636  ])"
      ]
     },
     "execution_count": 55,
     "metadata": {},
     "output_type": "execute_result"
    }
   ],
   "source": [
    "x_train_pred=dtr.predict(x_train)\n",
    "x_train_pred  ## x-- predicted training data"
   ]
  },
  {
   "cell_type": "code",
   "execution_count": 56,
   "id": "9b62c107",
   "metadata": {},
   "outputs": [
    {
     "data": {
      "text/plain": [
       "693      2352.96845\n",
       "1297     4340.44090\n",
       "634      9391.34600\n",
       "1022    42211.13820\n",
       "178      8823.27900\n",
       "           ...     \n",
       "1095     4561.18850\n",
       "1130     8582.30230\n",
       "1294    11931.12525\n",
       "860     46113.51100\n",
       "1126    10214.63600\n",
       "Name: charges, Length: 1003, dtype: float64"
      ]
     },
     "execution_count": 56,
     "metadata": {},
     "output_type": "execute_result"
    }
   ],
   "source": [
    "y_train  ## y--training data"
   ]
  },
  {
   "cell_type": "code",
   "execution_count": 57,
   "id": "5f8e6ad6",
   "metadata": {},
   "outputs": [
    {
     "name": "stdout",
     "output_type": "stream",
     "text": [
      "MSE: 182648.17106092346\n",
      "MAE: 19.084122482552342\n"
     ]
    }
   ],
   "source": [
    "## Mean Squared Error and Mean Absolute Error for training data \n",
    "\n",
    "print('MSE:', mean_squared_error ((y_train),(x_train_pred)))\n",
    "print('MAE:',mean_absolute_error((y_train),(x_train_pred)))"
   ]
  },
  {
   "cell_type": "code",
   "execution_count": 58,
   "id": "a331ee5e",
   "metadata": {},
   "outputs": [
    {
     "name": "stdout",
     "output_type": "stream",
     "text": [
      "MSE: 39699649.00878546\n",
      "MAE: 2929.6821737283585\n"
     ]
    }
   ],
   "source": [
    "## Mean Squared Error and Mean Absolute Error for testing data \n",
    "\n",
    "print('MSE:',mean_squared_error((y_test),(x_test_pred)))\n",
    "print('MAE:',mean_absolute_error((y_test),(x_test_pred)))"
   ]
  },
  {
   "cell_type": "code",
   "execution_count": 59,
   "id": "804451cc",
   "metadata": {},
   "outputs": [
    {
     "name": "stdout",
     "output_type": "stream",
     "text": [
      "Training score for Decision Tree  :  0.9987411422200098\n",
      "Testing score for Decision Tree :  0.736898739803312\n"
     ]
    }
   ],
   "source": [
    "##finding the score for training data and testing data\n",
    "\n",
    "print(\"Training score for Decision Tree  : \", dtr.score(x_train,y_train))\n",
    "print(\"Testing score for Decision Tree : \", dtr.score(x_test,y_test))"
   ]
  },
  {
   "cell_type": "markdown",
   "id": "a2a63496",
   "metadata": {},
   "source": [
    "###### There is less error in training data and more error in testing data so it is overfitting."
   ]
  },
  {
   "cell_type": "markdown",
   "id": "3da465ae",
   "metadata": {},
   "source": [
    "## Hyperparametric Tuning for Decision Tree"
   ]
  },
  {
   "cell_type": "code",
   "execution_count": 60,
   "id": "26e07331",
   "metadata": {},
   "outputs": [],
   "source": [
    "from sklearn.model_selection import RandomizedSearchCV  ## importing randomized search cv"
   ]
  },
  {
   "cell_type": "code",
   "execution_count": 61,
   "id": "ad4a0186",
   "metadata": {},
   "outputs": [],
   "source": [
    "parameters={\"splitter\":[\"best\",\"random\"],\n",
    "            \"max_depth\" : [1,3,5,7,9],\n",
    "           \"min_samples_leaf\":[1,2,3,4,5,],\n",
    "           \"max_features\":[\"auto\",\"sqrt\"],\n",
    "           \"max_leaf_nodes\":[5,10,15] }\n"
   ]
  },
  {
   "cell_type": "code",
   "execution_count": 62,
   "id": "1302bd29",
   "metadata": {},
   "outputs": [],
   "source": [
    "hyper_tuning = RandomizedSearchCV(estimator=dtr, param_distributions = parameters,\n",
    "                               cv = 2, n_iter = 10, n_jobs=-1)"
   ]
  },
  {
   "cell_type": "code",
   "execution_count": 63,
   "id": "a7c94c7a",
   "metadata": {},
   "outputs": [
    {
     "data": {
      "text/html": [
       "<style>#sk-container-id-1 {color: black;background-color: white;}#sk-container-id-1 pre{padding: 0;}#sk-container-id-1 div.sk-toggleable {background-color: white;}#sk-container-id-1 label.sk-toggleable__label {cursor: pointer;display: block;width: 100%;margin-bottom: 0;padding: 0.3em;box-sizing: border-box;text-align: center;}#sk-container-id-1 label.sk-toggleable__label-arrow:before {content: \"▸\";float: left;margin-right: 0.25em;color: #696969;}#sk-container-id-1 label.sk-toggleable__label-arrow:hover:before {color: black;}#sk-container-id-1 div.sk-estimator:hover label.sk-toggleable__label-arrow:before {color: black;}#sk-container-id-1 div.sk-toggleable__content {max-height: 0;max-width: 0;overflow: hidden;text-align: left;background-color: #f0f8ff;}#sk-container-id-1 div.sk-toggleable__content pre {margin: 0.2em;color: black;border-radius: 0.25em;background-color: #f0f8ff;}#sk-container-id-1 input.sk-toggleable__control:checked~div.sk-toggleable__content {max-height: 200px;max-width: 100%;overflow: auto;}#sk-container-id-1 input.sk-toggleable__control:checked~label.sk-toggleable__label-arrow:before {content: \"▾\";}#sk-container-id-1 div.sk-estimator input.sk-toggleable__control:checked~label.sk-toggleable__label {background-color: #d4ebff;}#sk-container-id-1 div.sk-label input.sk-toggleable__control:checked~label.sk-toggleable__label {background-color: #d4ebff;}#sk-container-id-1 input.sk-hidden--visually {border: 0;clip: rect(1px 1px 1px 1px);clip: rect(1px, 1px, 1px, 1px);height: 1px;margin: -1px;overflow: hidden;padding: 0;position: absolute;width: 1px;}#sk-container-id-1 div.sk-estimator {font-family: monospace;background-color: #f0f8ff;border: 1px dotted black;border-radius: 0.25em;box-sizing: border-box;margin-bottom: 0.5em;}#sk-container-id-1 div.sk-estimator:hover {background-color: #d4ebff;}#sk-container-id-1 div.sk-parallel-item::after {content: \"\";width: 100%;border-bottom: 1px solid gray;flex-grow: 1;}#sk-container-id-1 div.sk-label:hover label.sk-toggleable__label {background-color: #d4ebff;}#sk-container-id-1 div.sk-serial::before {content: \"\";position: absolute;border-left: 1px solid gray;box-sizing: border-box;top: 0;bottom: 0;left: 50%;z-index: 0;}#sk-container-id-1 div.sk-serial {display: flex;flex-direction: column;align-items: center;background-color: white;padding-right: 0.2em;padding-left: 0.2em;position: relative;}#sk-container-id-1 div.sk-item {position: relative;z-index: 1;}#sk-container-id-1 div.sk-parallel {display: flex;align-items: stretch;justify-content: center;background-color: white;position: relative;}#sk-container-id-1 div.sk-item::before, #sk-container-id-1 div.sk-parallel-item::before {content: \"\";position: absolute;border-left: 1px solid gray;box-sizing: border-box;top: 0;bottom: 0;left: 50%;z-index: -1;}#sk-container-id-1 div.sk-parallel-item {display: flex;flex-direction: column;z-index: 1;position: relative;background-color: white;}#sk-container-id-1 div.sk-parallel-item:first-child::after {align-self: flex-end;width: 50%;}#sk-container-id-1 div.sk-parallel-item:last-child::after {align-self: flex-start;width: 50%;}#sk-container-id-1 div.sk-parallel-item:only-child::after {width: 0;}#sk-container-id-1 div.sk-dashed-wrapped {border: 1px dashed gray;margin: 0 0.4em 0.5em 0.4em;box-sizing: border-box;padding-bottom: 0.4em;background-color: white;}#sk-container-id-1 div.sk-label label {font-family: monospace;font-weight: bold;display: inline-block;line-height: 1.2em;}#sk-container-id-1 div.sk-label-container {text-align: center;}#sk-container-id-1 div.sk-container {/* jupyter's `normalize.less` sets `[hidden] { display: none; }` but bootstrap.min.css set `[hidden] { display: none !important; }` so we also need the `!important` here to be able to override the default hidden behavior on the sphinx rendered scikit-learn.org. See: https://github.com/scikit-learn/scikit-learn/issues/21755 */display: inline-block !important;position: relative;}#sk-container-id-1 div.sk-text-repr-fallback {display: none;}</style><div id=\"sk-container-id-1\" class=\"sk-top-container\"><div class=\"sk-text-repr-fallback\"><pre>RandomizedSearchCV(cv=2,\n",
       "                   estimator=DecisionTreeRegressor(criterion=&#x27;mse&#x27;,\n",
       "                                                   random_state=42),\n",
       "                   n_jobs=-1,\n",
       "                   param_distributions={&#x27;max_depth&#x27;: [1, 3, 5, 7, 9],\n",
       "                                        &#x27;max_features&#x27;: [&#x27;auto&#x27;, &#x27;sqrt&#x27;],\n",
       "                                        &#x27;max_leaf_nodes&#x27;: [5, 10, 15],\n",
       "                                        &#x27;min_samples_leaf&#x27;: [1, 2, 3, 4, 5],\n",
       "                                        &#x27;splitter&#x27;: [&#x27;best&#x27;, &#x27;random&#x27;]})</pre><b>In a Jupyter environment, please rerun this cell to show the HTML representation or trust the notebook. <br />On GitHub, the HTML representation is unable to render, please try loading this page with nbviewer.org.</b></div><div class=\"sk-container\" hidden><div class=\"sk-item sk-dashed-wrapped\"><div class=\"sk-label-container\"><div class=\"sk-label sk-toggleable\"><input class=\"sk-toggleable__control sk-hidden--visually\" id=\"sk-estimator-id-1\" type=\"checkbox\" ><label for=\"sk-estimator-id-1\" class=\"sk-toggleable__label sk-toggleable__label-arrow\">RandomizedSearchCV</label><div class=\"sk-toggleable__content\"><pre>RandomizedSearchCV(cv=2,\n",
       "                   estimator=DecisionTreeRegressor(criterion=&#x27;mse&#x27;,\n",
       "                                                   random_state=42),\n",
       "                   n_jobs=-1,\n",
       "                   param_distributions={&#x27;max_depth&#x27;: [1, 3, 5, 7, 9],\n",
       "                                        &#x27;max_features&#x27;: [&#x27;auto&#x27;, &#x27;sqrt&#x27;],\n",
       "                                        &#x27;max_leaf_nodes&#x27;: [5, 10, 15],\n",
       "                                        &#x27;min_samples_leaf&#x27;: [1, 2, 3, 4, 5],\n",
       "                                        &#x27;splitter&#x27;: [&#x27;best&#x27;, &#x27;random&#x27;]})</pre></div></div></div><div class=\"sk-parallel\"><div class=\"sk-parallel-item\"><div class=\"sk-item\"><div class=\"sk-label-container\"><div class=\"sk-label sk-toggleable\"><input class=\"sk-toggleable__control sk-hidden--visually\" id=\"sk-estimator-id-2\" type=\"checkbox\" ><label for=\"sk-estimator-id-2\" class=\"sk-toggleable__label sk-toggleable__label-arrow\">estimator: DecisionTreeRegressor</label><div class=\"sk-toggleable__content\"><pre>DecisionTreeRegressor(criterion=&#x27;mse&#x27;, random_state=42)</pre></div></div></div><div class=\"sk-serial\"><div class=\"sk-item\"><div class=\"sk-estimator sk-toggleable\"><input class=\"sk-toggleable__control sk-hidden--visually\" id=\"sk-estimator-id-3\" type=\"checkbox\" ><label for=\"sk-estimator-id-3\" class=\"sk-toggleable__label sk-toggleable__label-arrow\">DecisionTreeRegressor</label><div class=\"sk-toggleable__content\"><pre>DecisionTreeRegressor(criterion=&#x27;mse&#x27;, random_state=42)</pre></div></div></div></div></div></div></div></div></div></div>"
      ],
      "text/plain": [
       "RandomizedSearchCV(cv=2,\n",
       "                   estimator=DecisionTreeRegressor(criterion='mse',\n",
       "                                                   random_state=42),\n",
       "                   n_jobs=-1,\n",
       "                   param_distributions={'max_depth': [1, 3, 5, 7, 9],\n",
       "                                        'max_features': ['auto', 'sqrt'],\n",
       "                                        'max_leaf_nodes': [5, 10, 15],\n",
       "                                        'min_samples_leaf': [1, 2, 3, 4, 5],\n",
       "                                        'splitter': ['best', 'random']})"
      ]
     },
     "execution_count": 63,
     "metadata": {},
     "output_type": "execute_result"
    }
   ],
   "source": [
    "hyper_tuning.fit(x_train, y_train)\n"
   ]
  },
  {
   "cell_type": "code",
   "execution_count": 64,
   "id": "f870cb5f",
   "metadata": {},
   "outputs": [
    {
     "data": {
      "text/plain": [
       "{'splitter': 'best',\n",
       " 'min_samples_leaf': 2,\n",
       " 'max_leaf_nodes': 15,\n",
       " 'max_features': 'auto',\n",
       " 'max_depth': 5}"
      ]
     },
     "execution_count": 64,
     "metadata": {},
     "output_type": "execute_result"
    }
   ],
   "source": [
    "hyper_tuning.best_params_   ## getting the best parameters"
   ]
  },
  {
   "cell_type": "code",
   "execution_count": 65,
   "id": "d207ca03",
   "metadata": {},
   "outputs": [],
   "source": [
    "dtr_hyper=DecisionTreeRegressor(splitter='best',min_samples_leaf=4,max_leaf_nodes=15,max_features='auto',max_depth=7)"
   ]
  },
  {
   "cell_type": "code",
   "execution_count": 66,
   "id": "d8c1015d",
   "metadata": {},
   "outputs": [
    {
     "data": {
      "text/html": [
       "<style>#sk-container-id-2 {color: black;background-color: white;}#sk-container-id-2 pre{padding: 0;}#sk-container-id-2 div.sk-toggleable {background-color: white;}#sk-container-id-2 label.sk-toggleable__label {cursor: pointer;display: block;width: 100%;margin-bottom: 0;padding: 0.3em;box-sizing: border-box;text-align: center;}#sk-container-id-2 label.sk-toggleable__label-arrow:before {content: \"▸\";float: left;margin-right: 0.25em;color: #696969;}#sk-container-id-2 label.sk-toggleable__label-arrow:hover:before {color: black;}#sk-container-id-2 div.sk-estimator:hover label.sk-toggleable__label-arrow:before {color: black;}#sk-container-id-2 div.sk-toggleable__content {max-height: 0;max-width: 0;overflow: hidden;text-align: left;background-color: #f0f8ff;}#sk-container-id-2 div.sk-toggleable__content pre {margin: 0.2em;color: black;border-radius: 0.25em;background-color: #f0f8ff;}#sk-container-id-2 input.sk-toggleable__control:checked~div.sk-toggleable__content {max-height: 200px;max-width: 100%;overflow: auto;}#sk-container-id-2 input.sk-toggleable__control:checked~label.sk-toggleable__label-arrow:before {content: \"▾\";}#sk-container-id-2 div.sk-estimator input.sk-toggleable__control:checked~label.sk-toggleable__label {background-color: #d4ebff;}#sk-container-id-2 div.sk-label input.sk-toggleable__control:checked~label.sk-toggleable__label {background-color: #d4ebff;}#sk-container-id-2 input.sk-hidden--visually {border: 0;clip: rect(1px 1px 1px 1px);clip: rect(1px, 1px, 1px, 1px);height: 1px;margin: -1px;overflow: hidden;padding: 0;position: absolute;width: 1px;}#sk-container-id-2 div.sk-estimator {font-family: monospace;background-color: #f0f8ff;border: 1px dotted black;border-radius: 0.25em;box-sizing: border-box;margin-bottom: 0.5em;}#sk-container-id-2 div.sk-estimator:hover {background-color: #d4ebff;}#sk-container-id-2 div.sk-parallel-item::after {content: \"\";width: 100%;border-bottom: 1px solid gray;flex-grow: 1;}#sk-container-id-2 div.sk-label:hover label.sk-toggleable__label {background-color: #d4ebff;}#sk-container-id-2 div.sk-serial::before {content: \"\";position: absolute;border-left: 1px solid gray;box-sizing: border-box;top: 0;bottom: 0;left: 50%;z-index: 0;}#sk-container-id-2 div.sk-serial {display: flex;flex-direction: column;align-items: center;background-color: white;padding-right: 0.2em;padding-left: 0.2em;position: relative;}#sk-container-id-2 div.sk-item {position: relative;z-index: 1;}#sk-container-id-2 div.sk-parallel {display: flex;align-items: stretch;justify-content: center;background-color: white;position: relative;}#sk-container-id-2 div.sk-item::before, #sk-container-id-2 div.sk-parallel-item::before {content: \"\";position: absolute;border-left: 1px solid gray;box-sizing: border-box;top: 0;bottom: 0;left: 50%;z-index: -1;}#sk-container-id-2 div.sk-parallel-item {display: flex;flex-direction: column;z-index: 1;position: relative;background-color: white;}#sk-container-id-2 div.sk-parallel-item:first-child::after {align-self: flex-end;width: 50%;}#sk-container-id-2 div.sk-parallel-item:last-child::after {align-self: flex-start;width: 50%;}#sk-container-id-2 div.sk-parallel-item:only-child::after {width: 0;}#sk-container-id-2 div.sk-dashed-wrapped {border: 1px dashed gray;margin: 0 0.4em 0.5em 0.4em;box-sizing: border-box;padding-bottom: 0.4em;background-color: white;}#sk-container-id-2 div.sk-label label {font-family: monospace;font-weight: bold;display: inline-block;line-height: 1.2em;}#sk-container-id-2 div.sk-label-container {text-align: center;}#sk-container-id-2 div.sk-container {/* jupyter's `normalize.less` sets `[hidden] { display: none; }` but bootstrap.min.css set `[hidden] { display: none !important; }` so we also need the `!important` here to be able to override the default hidden behavior on the sphinx rendered scikit-learn.org. See: https://github.com/scikit-learn/scikit-learn/issues/21755 */display: inline-block !important;position: relative;}#sk-container-id-2 div.sk-text-repr-fallback {display: none;}</style><div id=\"sk-container-id-2\" class=\"sk-top-container\"><div class=\"sk-text-repr-fallback\"><pre>DecisionTreeRegressor(max_depth=7, max_features=&#x27;auto&#x27;, max_leaf_nodes=15,\n",
       "                      min_samples_leaf=4)</pre><b>In a Jupyter environment, please rerun this cell to show the HTML representation or trust the notebook. <br />On GitHub, the HTML representation is unable to render, please try loading this page with nbviewer.org.</b></div><div class=\"sk-container\" hidden><div class=\"sk-item\"><div class=\"sk-estimator sk-toggleable\"><input class=\"sk-toggleable__control sk-hidden--visually\" id=\"sk-estimator-id-4\" type=\"checkbox\" checked><label for=\"sk-estimator-id-4\" class=\"sk-toggleable__label sk-toggleable__label-arrow\">DecisionTreeRegressor</label><div class=\"sk-toggleable__content\"><pre>DecisionTreeRegressor(max_depth=7, max_features=&#x27;auto&#x27;, max_leaf_nodes=15,\n",
       "                      min_samples_leaf=4)</pre></div></div></div></div></div>"
      ],
      "text/plain": [
       "DecisionTreeRegressor(max_depth=7, max_features='auto', max_leaf_nodes=15,\n",
       "                      min_samples_leaf=4)"
      ]
     },
     "execution_count": 66,
     "metadata": {},
     "output_type": "execute_result"
    }
   ],
   "source": [
    "dtr_hyper.fit(x_train,y_train)"
   ]
  },
  {
   "cell_type": "code",
   "execution_count": 67,
   "id": "ae3e89b2",
   "metadata": {},
   "outputs": [],
   "source": [
    "tuning_predict=dtr_hyper.predict(x_test)"
   ]
  },
  {
   "cell_type": "code",
   "execution_count": 68,
   "id": "9aba1f93",
   "metadata": {},
   "outputs": [
    {
     "data": {
      "text/plain": [
       "array([10580.06731878,  5653.08998613, 27503.00828667, 10580.06731878,\n",
       "       36162.94725514,  5653.08998613,  3176.71556648, 14014.2686275 ,\n",
       "        5653.08998613, 10580.06731878, 18557.77048356,  7233.79968598,\n",
       "        5653.08998613, 42764.66477585, 46910.03729867, 42764.66477585,\n",
       "       10580.06731878, 42764.66477585, 10580.06731878, 27503.00828667,\n",
       "        7233.79968598, 10580.06731878,  3176.71556648,  3176.71556648,\n",
       "       10580.06731878, 12845.40752091, 14014.2686275 ,  7233.79968598,\n",
       "       10580.06731878,  3176.71556648,  7233.79968598, 12845.40752091,\n",
       "        3176.71556648,  7233.79968598,  5653.08998613, 10580.06731878,\n",
       "        3176.71556648, 10580.06731878, 23195.17850957, 42764.66477585,\n",
       "        3176.71556648,  3176.71556648, 12845.40752091, 14014.2686275 ,\n",
       "        7233.79968598, 15993.72164706,  3176.71556648,  7233.79968598,\n",
       "       42764.66477585,  7233.79968598, 14014.2686275 ,  3176.71556648,\n",
       "        5653.08998613,  3176.71556648, 12845.40752091, 10580.06731878,\n",
       "        5653.08998613, 42764.66477585, 12845.40752091, 12845.40752091,\n",
       "       14014.2686275 ,  7233.79968598, 29526.772182  ,  7233.79968598,\n",
       "       10580.06731878,  5653.08998613, 18557.77048356, 10580.06731878,\n",
       "        5653.08998613,  3176.71556648,  5653.08998613, 10580.06731878,\n",
       "       10580.06731878,  7233.79968598, 10580.06731878,  5653.08998613,\n",
       "        7233.79968598, 12845.40752091,  7233.79968598, 10580.06731878,\n",
       "        3176.71556648, 27503.00828667,  7233.79968598, 36162.94725514,\n",
       "       36162.94725514, 42764.66477585,  7233.79968598, 12845.40752091,\n",
       "       10580.06731878, 12845.40752091, 29526.772182  , 23195.17850957,\n",
       "       27503.00828667,  7233.79968598, 42764.66477585,  7233.79968598,\n",
       "       18557.77048356,  3176.71556648, 18557.77048356,  7233.79968598,\n",
       "        5653.08998613,  3176.71556648,  5653.08998613, 12845.40752091,\n",
       "       14014.2686275 ,  3176.71556648, 10580.06731878, 23195.17850957,\n",
       "        3176.71556648, 23195.17850957,  3176.71556648,  5653.08998613,\n",
       "       12845.40752091, 42764.66477585, 10580.06731878,  3176.71556648,\n",
       "       14014.2686275 , 27503.00828667,  7233.79968598,  5653.08998613,\n",
       "        5653.08998613,  7233.79968598, 10580.06731878,  5653.08998613,\n",
       "        7233.79968598,  7233.79968598, 10580.06731878, 10580.06731878,\n",
       "       14014.2686275 ,  5653.08998613,  5653.08998613,  7233.79968598,\n",
       "        7233.79968598, 10580.06731878,  5653.08998613, 29526.772182  ,\n",
       "        5653.08998613, 42764.66477585, 42764.66477585, 42764.66477585,\n",
       "        5653.08998613, 10580.06731878,  5653.08998613, 10580.06731878,\n",
       "        5653.08998613, 23195.17850957,  7233.79968598,  5653.08998613,\n",
       "       10580.06731878,  5653.08998613, 46910.03729867,  5653.08998613,\n",
       "        3176.71556648, 42764.66477585,  5653.08998613,  5653.08998613,\n",
       "       14014.2686275 , 10580.06731878, 36162.94725514, 42764.66477585,\n",
       "       12845.40752091,  3176.71556648, 15993.72164706,  5653.08998613,\n",
       "        7233.79968598,  7233.79968598, 46910.03729867, 46910.03729867,\n",
       "       42764.66477585,  5653.08998613, 10580.06731878,  5653.08998613,\n",
       "        5653.08998613,  5653.08998613,  3176.71556648, 23195.17850957,\n",
       "       18557.77048356, 14014.2686275 , 18557.77048356, 12845.40752091,\n",
       "       27503.00828667,  3176.71556648, 10580.06731878,  5653.08998613,\n",
       "        7233.79968598,  5653.08998613,  5653.08998613,  5653.08998613,\n",
       "       10580.06731878, 12845.40752091,  7233.79968598,  3176.71556648,\n",
       "        3176.71556648, 42764.66477585, 14014.2686275 , 10580.06731878,\n",
       "        3176.71556648, 12845.40752091,  3176.71556648, 10580.06731878,\n",
       "        5653.08998613, 27503.00828667,  7233.79968598,  3176.71556648,\n",
       "       18557.77048356, 18557.77048356, 10580.06731878,  3176.71556648,\n",
       "       10580.06731878,  5653.08998613, 14014.2686275 , 12845.40752091,\n",
       "       10580.06731878, 18557.77048356,  7233.79968598,  5653.08998613,\n",
       "        5653.08998613, 15993.72164706, 14014.2686275 ,  5653.08998613,\n",
       "        3176.71556648, 10580.06731878,  7233.79968598, 42764.66477585,\n",
       "        3176.71556648, 42764.66477585,  3176.71556648,  3176.71556648,\n",
       "       10580.06731878, 10580.06731878,  3176.71556648, 10580.06731878,\n",
       "        7233.79968598, 27503.00828667, 10580.06731878, 10580.06731878,\n",
       "        7233.79968598,  5653.08998613, 42764.66477585,  3176.71556648,\n",
       "       14014.2686275 , 42764.66477585,  5653.08998613,  5653.08998613,\n",
       "        3176.71556648,  5653.08998613,  7233.79968598,  5653.08998613,\n",
       "       10580.06731878,  3176.71556648,  3176.71556648,  7233.79968598,\n",
       "        5653.08998613, 12845.40752091,  3176.71556648,  5653.08998613,\n",
       "       14014.2686275 ,  5653.08998613, 10580.06731878,  7233.79968598,\n",
       "        7233.79968598, 14014.2686275 , 18557.77048356, 46910.03729867,\n",
       "       12845.40752091,  5653.08998613, 46910.03729867, 10580.06731878,\n",
       "       10580.06731878, 10580.06731878, 10580.06731878,  7233.79968598,\n",
       "       12845.40752091, 14014.2686275 ,  3176.71556648, 18557.77048356,\n",
       "        5653.08998613, 42764.66477585,  7233.79968598, 10580.06731878,\n",
       "       10580.06731878, 14014.2686275 , 10580.06731878, 10580.06731878,\n",
       "       42764.66477585,  5653.08998613, 10580.06731878, 46910.03729867,\n",
       "        5653.08998613,  5653.08998613,  3176.71556648, 12845.40752091,\n",
       "       18557.77048356, 10580.06731878, 10580.06731878, 12845.40752091,\n",
       "       10580.06731878,  5653.08998613,  3176.71556648, 36162.94725514,\n",
       "       42764.66477585,  7233.79968598,  3176.71556648, 18557.77048356,\n",
       "       15993.72164706, 42764.66477585,  3176.71556648, 46910.03729867,\n",
       "        7233.79968598,  3176.71556648,  7233.79968598,  3176.71556648,\n",
       "       18557.77048356, 14014.2686275 ,  3176.71556648, 12845.40752091,\n",
       "       12845.40752091, 12845.40752091, 42764.66477585, 12845.40752091,\n",
       "       23195.17850957,  7233.79968598, 15138.96121   ,  5653.08998613,\n",
       "       10580.06731878, 10580.06731878, 15993.72164706, 12845.40752091,\n",
       "        5653.08998613, 12845.40752091, 14014.2686275 , 12845.40752091,\n",
       "        5653.08998613, 36162.94725514,  5653.08998613])"
      ]
     },
     "execution_count": 68,
     "metadata": {},
     "output_type": "execute_result"
    }
   ],
   "source": [
    "tuning_predict"
   ]
  },
  {
   "cell_type": "code",
   "execution_count": 69,
   "id": "f3d7aa71",
   "metadata": {},
   "outputs": [
    {
     "data": {
      "text/plain": [
       "764      9095.06825\n",
       "887      5272.17580\n",
       "890     29330.98315\n",
       "1293     9301.89355\n",
       "259     33750.29180\n",
       "           ...     \n",
       "342     13217.09450\n",
       "308     11944.59435\n",
       "1128    14358.36437\n",
       "503     32548.34050\n",
       "1197     5699.83750\n",
       "Name: charges, Length: 335, dtype: float64"
      ]
     },
     "execution_count": 69,
     "metadata": {},
     "output_type": "execute_result"
    }
   ],
   "source": [
    "y_test"
   ]
  },
  {
   "cell_type": "code",
   "execution_count": 70,
   "id": "803cea04",
   "metadata": {},
   "outputs": [
    {
     "name": "stdout",
     "output_type": "stream",
     "text": [
      "Decision Tree Regressor hyperparameter score training : 0.8698632307313555\n"
     ]
    }
   ],
   "source": [
    "print('Decision Tree Regressor hyperparameter score training :',hyper_tuning.score(x_train,y_train))"
   ]
  },
  {
   "cell_type": "code",
   "execution_count": 71,
   "id": "7dcd4941",
   "metadata": {},
   "outputs": [
    {
     "name": "stdout",
     "output_type": "stream",
     "text": [
      "Decision Tree Regressor hyperparameter score testing : 0.8476267205288059\n"
     ]
    }
   ],
   "source": [
    "print('Decision Tree Regressor hyperparameter score testing :', hyper_tuning.score(x_test,y_test))"
   ]
  },
  {
   "cell_type": "markdown",
   "id": "10367031",
   "metadata": {},
   "source": [
    "## Model Evaluation :- Random Forest Regressor"
   ]
  },
  {
   "cell_type": "code",
   "execution_count": 72,
   "id": "3f20407c",
   "metadata": {},
   "outputs": [],
   "source": [
    "from sklearn.ensemble import RandomForestRegressor  ## importing random forest"
   ]
  },
  {
   "cell_type": "code",
   "execution_count": 73,
   "id": "8602fbb4",
   "metadata": {},
   "outputs": [
    {
     "data": {
      "text/html": [
       "<style>#sk-container-id-3 {color: black;background-color: white;}#sk-container-id-3 pre{padding: 0;}#sk-container-id-3 div.sk-toggleable {background-color: white;}#sk-container-id-3 label.sk-toggleable__label {cursor: pointer;display: block;width: 100%;margin-bottom: 0;padding: 0.3em;box-sizing: border-box;text-align: center;}#sk-container-id-3 label.sk-toggleable__label-arrow:before {content: \"▸\";float: left;margin-right: 0.25em;color: #696969;}#sk-container-id-3 label.sk-toggleable__label-arrow:hover:before {color: black;}#sk-container-id-3 div.sk-estimator:hover label.sk-toggleable__label-arrow:before {color: black;}#sk-container-id-3 div.sk-toggleable__content {max-height: 0;max-width: 0;overflow: hidden;text-align: left;background-color: #f0f8ff;}#sk-container-id-3 div.sk-toggleable__content pre {margin: 0.2em;color: black;border-radius: 0.25em;background-color: #f0f8ff;}#sk-container-id-3 input.sk-toggleable__control:checked~div.sk-toggleable__content {max-height: 200px;max-width: 100%;overflow: auto;}#sk-container-id-3 input.sk-toggleable__control:checked~label.sk-toggleable__label-arrow:before {content: \"▾\";}#sk-container-id-3 div.sk-estimator input.sk-toggleable__control:checked~label.sk-toggleable__label {background-color: #d4ebff;}#sk-container-id-3 div.sk-label input.sk-toggleable__control:checked~label.sk-toggleable__label {background-color: #d4ebff;}#sk-container-id-3 input.sk-hidden--visually {border: 0;clip: rect(1px 1px 1px 1px);clip: rect(1px, 1px, 1px, 1px);height: 1px;margin: -1px;overflow: hidden;padding: 0;position: absolute;width: 1px;}#sk-container-id-3 div.sk-estimator {font-family: monospace;background-color: #f0f8ff;border: 1px dotted black;border-radius: 0.25em;box-sizing: border-box;margin-bottom: 0.5em;}#sk-container-id-3 div.sk-estimator:hover {background-color: #d4ebff;}#sk-container-id-3 div.sk-parallel-item::after {content: \"\";width: 100%;border-bottom: 1px solid gray;flex-grow: 1;}#sk-container-id-3 div.sk-label:hover label.sk-toggleable__label {background-color: #d4ebff;}#sk-container-id-3 div.sk-serial::before {content: \"\";position: absolute;border-left: 1px solid gray;box-sizing: border-box;top: 0;bottom: 0;left: 50%;z-index: 0;}#sk-container-id-3 div.sk-serial {display: flex;flex-direction: column;align-items: center;background-color: white;padding-right: 0.2em;padding-left: 0.2em;position: relative;}#sk-container-id-3 div.sk-item {position: relative;z-index: 1;}#sk-container-id-3 div.sk-parallel {display: flex;align-items: stretch;justify-content: center;background-color: white;position: relative;}#sk-container-id-3 div.sk-item::before, #sk-container-id-3 div.sk-parallel-item::before {content: \"\";position: absolute;border-left: 1px solid gray;box-sizing: border-box;top: 0;bottom: 0;left: 50%;z-index: -1;}#sk-container-id-3 div.sk-parallel-item {display: flex;flex-direction: column;z-index: 1;position: relative;background-color: white;}#sk-container-id-3 div.sk-parallel-item:first-child::after {align-self: flex-end;width: 50%;}#sk-container-id-3 div.sk-parallel-item:last-child::after {align-self: flex-start;width: 50%;}#sk-container-id-3 div.sk-parallel-item:only-child::after {width: 0;}#sk-container-id-3 div.sk-dashed-wrapped {border: 1px dashed gray;margin: 0 0.4em 0.5em 0.4em;box-sizing: border-box;padding-bottom: 0.4em;background-color: white;}#sk-container-id-3 div.sk-label label {font-family: monospace;font-weight: bold;display: inline-block;line-height: 1.2em;}#sk-container-id-3 div.sk-label-container {text-align: center;}#sk-container-id-3 div.sk-container {/* jupyter's `normalize.less` sets `[hidden] { display: none; }` but bootstrap.min.css set `[hidden] { display: none !important; }` so we also need the `!important` here to be able to override the default hidden behavior on the sphinx rendered scikit-learn.org. See: https://github.com/scikit-learn/scikit-learn/issues/21755 */display: inline-block !important;position: relative;}#sk-container-id-3 div.sk-text-repr-fallback {display: none;}</style><div id=\"sk-container-id-3\" class=\"sk-top-container\"><div class=\"sk-text-repr-fallback\"><pre>RandomForestRegressor(random_state=42)</pre><b>In a Jupyter environment, please rerun this cell to show the HTML representation or trust the notebook. <br />On GitHub, the HTML representation is unable to render, please try loading this page with nbviewer.org.</b></div><div class=\"sk-container\" hidden><div class=\"sk-item\"><div class=\"sk-estimator sk-toggleable\"><input class=\"sk-toggleable__control sk-hidden--visually\" id=\"sk-estimator-id-5\" type=\"checkbox\" checked><label for=\"sk-estimator-id-5\" class=\"sk-toggleable__label sk-toggleable__label-arrow\">RandomForestRegressor</label><div class=\"sk-toggleable__content\"><pre>RandomForestRegressor(random_state=42)</pre></div></div></div></div></div>"
      ],
      "text/plain": [
       "RandomForestRegressor(random_state=42)"
      ]
     },
     "execution_count": 73,
     "metadata": {},
     "output_type": "execute_result"
    }
   ],
   "source": [
    "rfr=RandomForestRegressor(n_estimators=100,random_state=42)\n",
    "rfr.fit(x_train,y_train) ## fitting the training data"
   ]
  },
  {
   "cell_type": "code",
   "execution_count": 74,
   "id": "3a216354",
   "metadata": {},
   "outputs": [
    {
     "data": {
      "text/plain": [
       "array([12210.2099471 ,  5288.6852225 , 28335.5829505 , 11540.8179426 ,\n",
       "       34547.2388335 ,  8269.7370141 ,  2164.243365  , 14216.753573  ,\n",
       "        5179.7948413 , 10814.7756021 , 19634.6496733 ,  7057.6286235 ,\n",
       "        4861.481102  , 45975.4494    , 48625.2947165 , 45399.7951834 ,\n",
       "       10237.3237836 , 42515.2780159 , 10647.8483168 , 23447.0530009 ,\n",
       "        5464.9497367 ,  9793.9213386 ,  2161.9312649 ,  2878.798495  ,\n",
       "       11799.0812687 , 12458.0213255 , 14589.3936184 ,  6403.5021107 ,\n",
       "       11723.2116165 ,  3342.31443749,  7748.7999324 , 11765.076321  ,\n",
       "        2159.1281995 ,  5435.7972785 ,  3175.4210745 , 11522.7513319 ,\n",
       "        2899.7748967 ,  8478.8912251 , 24072.969559  , 39850.9757774 ,\n",
       "        8079.1278076 ,  3355.3286859 , 13835.0617688 , 14527.4952021 ,\n",
       "        5748.6976396 , 16501.4608812 , 15853.9109119 ,  6337.0290481 ,\n",
       "       41772.3737128 ,  6328.1895611 , 14087.5962156 ,  2176.29623155,\n",
       "        7024.329751  ,  1757.366528  , 10996.779215  , 10972.1088995 ,\n",
       "        4381.8098828 , 44014.9951254 , 12309.8255078 , 14673.505251  ,\n",
       "       13895.9759518 ,  7595.8268212 , 23548.4722815 ,  7837.6902074 ,\n",
       "       11474.8286136 ,  6106.0455632 , 18551.8531379 , 12917.1908    ,\n",
       "        8940.4067512 ,  1978.5662343 ,  8219.7260344 , 10289.0116056 ,\n",
       "        9035.3290066 ,  9265.1539815 ,  8218.7173467 ,  4966.61057   ,\n",
       "        7829.3559905 , 11728.2864551 ,  4667.1796827 , 11141.8112608 ,\n",
       "        1604.6016596 , 28090.3491046 ,  6034.1497061 , 37790.0679803 ,\n",
       "       40652.4483355 , 41880.0578763 ,  7066.1478161 , 11053.7217534 ,\n",
       "       10058.4457557 , 15496.5676089 , 21179.4965075 , 26690.0072602 ,\n",
       "       29225.9093839 ,  5333.2940762 , 47238.0827892 ,  6931.161872  ,\n",
       "       20022.951906  ,  2540.912237  , 18451.8338783 ,  7374.4166764 ,\n",
       "        4944.6241812 ,  1768.9693775 ,  6457.6716946 , 16739.8256397 ,\n",
       "       13893.8024051 ,  8719.4874519 ,  8694.9366461 , 23227.2518086 ,\n",
       "        1827.2509718 , 23819.1923893 ,  1495.711962  ,  3278.4446042 ,\n",
       "       12213.564894  , 42275.9889674 , 10401.3319447 ,  7010.0528382 ,\n",
       "       12784.1031237 , 25376.7320913 ,  6544.9333103 ,  6715.2505819 ,\n",
       "        5689.8244541 ,  9592.944927  , 15100.4485891 ,  2448.8067636 ,\n",
       "        6798.1408905 ,  7558.1813075 , 12782.7478931 , 10149.1086937 ,\n",
       "       16796.8444192 ,  2656.0632865 ,  4015.0620065 ,  6923.0589353 ,\n",
       "        6208.8369318 , 11998.0819047 ,  5752.257212  , 25895.2234719 ,\n",
       "        4945.0479584 , 37295.2106173 , 46214.106969  , 40305.3700078 ,\n",
       "        5191.241573  , 13234.0521042 ,  2719.8454458 , 15797.5992296 ,\n",
       "        2379.79902   , 24136.0495257 ,  6337.9861865 ,  4976.1774037 ,\n",
       "       11905.2351177 ,  4907.6368855 , 48920.4286516 ,  6418.0522446 ,\n",
       "        1197.9121975 , 45646.0590017 ,  6930.6960793 ,  4938.2892438 ,\n",
       "       13656.32881   , 11291.7184771 , 35907.0206103 , 39907.1785655 ,\n",
       "       14601.33226   ,  3238.929436  , 21544.343885  ,  6893.8569067 ,\n",
       "        4745.3959657 ,  7833.8647932 , 48594.3803436 , 43882.3694795 ,\n",
       "       40402.5804702 ,  6981.451883  , 10441.3149844 ,  6585.6092181 ,\n",
       "        7646.4006916 ,  4661.0363442 ,  2825.5477482 , 23940.6187811 ,\n",
       "       16902.3118265 , 14128.0910259 , 17027.6156975 , 11631.9756105 ,\n",
       "       28418.8032554 ,  6552.962867  ,  8839.0818454 ,  5134.5248474 ,\n",
       "        7172.5808365 ,  4466.7044577 ,  6435.8824917 ,  5711.3949581 ,\n",
       "        8968.2884258 , 12629.5679346 ,  4043.0826088 ,  3973.39301619,\n",
       "        3150.9460797 , 46109.1125547 , 13165.357543  ,  9795.6135433 ,\n",
       "        3417.3279825 , 15357.2198507 ,  2591.62463592, 10119.9652634 ,\n",
       "        3163.0354135 , 24102.5916814 ,  8291.7191266 ,  5137.6452943 ,\n",
       "       18966.7466721 , 18638.8370893 , 11300.2198764 ,  8745.6464123 ,\n",
       "        9608.0011003 ,  6550.7055608 , 14403.7450219 , 12675.1594263 ,\n",
       "       10255.3573298 , 18818.749598  ,  7349.5455183 ,  4097.1642607 ,\n",
       "        5099.2164295 , 14600.8789727 , 15074.7214383 ,  5268.0918275 ,\n",
       "        2357.5442522 ,  9297.5266021 ,  9705.1942689 , 45532.2897399 ,\n",
       "        2442.6974048 , 39334.0004028 ,  1726.8041875 ,  2181.5714417 ,\n",
       "        9755.4351512 , 11125.1370137 ,  1960.4987432 ,  9725.1356261 ,\n",
       "        6171.5323553 , 24796.0677785 ,  9751.4610195 , 10784.3964941 ,\n",
       "        4628.7264143 ,  8114.36676   , 45190.1149776 ,  2276.8474787 ,\n",
       "       13501.0572319 , 41747.3074834 ,  3641.7366579 ,  3440.9919545 ,\n",
       "        1639.0838375 ,  3404.7236493 ,  4375.0640552 ,  4344.9392305 ,\n",
       "       13464.9214698 ,  1621.4065865 ,  2328.13972415,  8983.9355333 ,\n",
       "        4368.2247658 , 11744.8136358 ,  4222.8052434 ,  3942.1454125 ,\n",
       "       12513.9272145 ,  5853.0381088 , 10043.2743605 ,  7689.2140995 ,\n",
       "        7490.972702  , 14381.3772083 , 19290.1355606 , 47573.3588764 ,\n",
       "       12290.6847736 ,  6490.4039349 , 46691.5428846 ,  9677.1853215 ,\n",
       "        9774.9628997 , 14968.9162523 , 10129.5010403 , 10284.8045993 ,\n",
       "       12799.8735478 , 14328.7493733 ,  2543.467265  , 13803.50154   ,\n",
       "        8834.0526503 , 39806.363493  ,  7067.9655628 ,  9820.3253237 ,\n",
       "        9827.2524435 , 14856.551625  , 13035.1089309 ,  9865.0280946 ,\n",
       "       39391.7288175 ,  2839.603911  , 10064.5385647 , 48234.3065004 ,\n",
       "        5197.6220055 ,  3662.1354207 ,  2618.58520425, 11193.06966   ,\n",
       "       15906.285697  , 16486.1745183 , 12010.5888967 , 15398.0020109 ,\n",
       "        9799.9886065 ,  4640.9364659 ,  3374.1132865 , 39112.6146455 ,\n",
       "       40630.5515985 , 11620.3482959 ,  6912.302962  , 16691.371618  ,\n",
       "       14646.295898  , 41824.2242345 ,  3311.43700402, 48053.9992048 ,\n",
       "        7510.1798638 ,  1637.786121  ,  7447.8474439 ,  3295.80513502,\n",
       "       18977.3480748 , 13727.1713313 ,  3143.6408513 , 16979.6701285 ,\n",
       "       10719.7506346 , 13215.0235401 , 42203.2334222 , 12498.5305545 ,\n",
       "       25523.1777412 ,  7547.99663   , 16431.297679  ,  6250.3417199 ,\n",
       "       11980.9169882 ,  9326.296397  , 15421.0702863 , 17739.805221  ,\n",
       "        4287.4881647 , 11525.9614563 , 13020.0722307 , 12103.5469722 ,\n",
       "        5077.7329347 , 33773.298345  ,  7109.1242345 ])"
      ]
     },
     "execution_count": 74,
     "metadata": {},
     "output_type": "execute_result"
    }
   ],
   "source": [
    "x_test_pred=rfr.predict(x_test) ## predicting the testing data\n",
    "\n",
    "x_test_pred"
   ]
  },
  {
   "cell_type": "code",
   "execution_count": 75,
   "id": "38831804",
   "metadata": {},
   "outputs": [
    {
     "data": {
      "text/plain": [
       "764      9095.06825\n",
       "887      5272.17580\n",
       "890     29330.98315\n",
       "1293     9301.89355\n",
       "259     33750.29180\n",
       "           ...     \n",
       "342     13217.09450\n",
       "308     11944.59435\n",
       "1128    14358.36437\n",
       "503     32548.34050\n",
       "1197     5699.83750\n",
       "Name: charges, Length: 335, dtype: float64"
      ]
     },
     "execution_count": 75,
     "metadata": {},
     "output_type": "execute_result"
    }
   ],
   "source": [
    "y_test"
   ]
  },
  {
   "cell_type": "code",
   "execution_count": 76,
   "id": "01f94230",
   "metadata": {},
   "outputs": [
    {
     "data": {
      "text/plain": [
       "array([ 4263.5882575,  4339.1666275,  9389.96349  , ..., 12410.0701707,\n",
       "       44697.223951 , 11326.7248712])"
      ]
     },
     "execution_count": 76,
     "metadata": {},
     "output_type": "execute_result"
    }
   ],
   "source": [
    "x_train_pred=rfr.predict(x_train) ## predicting the training data\n",
    "\n",
    "x_train_pred"
   ]
  },
  {
   "cell_type": "code",
   "execution_count": 77,
   "id": "9d8cbdbf",
   "metadata": {},
   "outputs": [
    {
     "data": {
      "text/plain": [
       "693      2352.96845\n",
       "1297     4340.44090\n",
       "634      9391.34600\n",
       "1022    42211.13820\n",
       "178      8823.27900\n",
       "           ...     \n",
       "1095     4561.18850\n",
       "1130     8582.30230\n",
       "1294    11931.12525\n",
       "860     46113.51100\n",
       "1126    10214.63600\n",
       "Name: charges, Length: 1003, dtype: float64"
      ]
     },
     "execution_count": 77,
     "metadata": {},
     "output_type": "execute_result"
    }
   ],
   "source": [
    "y_train ## y--training data"
   ]
  },
  {
   "cell_type": "code",
   "execution_count": 78,
   "id": "a4edcc67",
   "metadata": {},
   "outputs": [
    {
     "name": "stdout",
     "output_type": "stream",
     "text": [
      "Random Forest Training score : 0.9758145448997859\n"
     ]
    }
   ],
   "source": [
    "print('Random Forest Training score :',rfr.score(x_train,y_train))"
   ]
  },
  {
   "cell_type": "code",
   "execution_count": 79,
   "id": "a78ec10c",
   "metadata": {},
   "outputs": [
    {
     "name": "stdout",
     "output_type": "stream",
     "text": [
      "Random Forest Testing Score : 0.8470406801075995\n"
     ]
    }
   ],
   "source": [
    "print('Random Forest Testing Score :',rfr.score(x_test,y_test))"
   ]
  },
  {
   "cell_type": "markdown",
   "id": "bdf49326",
   "metadata": {},
   "source": [
    "##### There is less error in training data and more error in testing data ,so it is overfitting."
   ]
  },
  {
   "cell_type": "markdown",
   "id": "dc3ac05a",
   "metadata": {},
   "source": [
    "## Hyperparametric Tuning for Random Forest"
   ]
  },
  {
   "cell_type": "code",
   "execution_count": 80,
   "id": "0e0cc4bc",
   "metadata": {},
   "outputs": [],
   "source": [
    "from sklearn.model_selection import RandomizedSearchCV"
   ]
  },
  {
   "cell_type": "code",
   "execution_count": 81,
   "id": "13f4f964",
   "metadata": {},
   "outputs": [],
   "source": [
    "grid={'n_estimators':[int(x) for x in np.linspace(start=100,stop=1200,num=12)],\n",
    "      'max_features':['auto','log2'],\n",
    "      'max_depth':[int(x) for x in np.linspace(5,30,num=6)],\n",
    "      'min_samples_split':[2,5,10,15,100],\n",
    "      'min_samples_leaf':[1,2,5,10]}"
   ]
  },
  {
   "cell_type": "code",
   "execution_count": 82,
   "id": "657e472c",
   "metadata": {},
   "outputs": [],
   "source": [
    "hyper_tuning=RandomizedSearchCV(estimator=rfr,param_distributions=grid,n_iter=10,cv=5,verbose=5,random_state=2)"
   ]
  },
  {
   "cell_type": "code",
   "execution_count": 83,
   "id": "1b6b3953",
   "metadata": {},
   "outputs": [
    {
     "name": "stdout",
     "output_type": "stream",
     "text": [
      "Fitting 5 folds for each of 10 candidates, totalling 50 fits\n",
      "[CV 1/5] END max_depth=30, max_features=auto, min_samples_leaf=5, min_samples_split=100, n_estimators=800;, score=0.845 total time=   3.0s\n",
      "[CV 2/5] END max_depth=30, max_features=auto, min_samples_leaf=5, min_samples_split=100, n_estimators=800;, score=0.830 total time=   3.0s\n",
      "[CV 3/5] END max_depth=30, max_features=auto, min_samples_leaf=5, min_samples_split=100, n_estimators=800;, score=0.805 total time=   3.2s\n",
      "[CV 4/5] END max_depth=30, max_features=auto, min_samples_leaf=5, min_samples_split=100, n_estimators=800;, score=0.765 total time=   3.2s\n",
      "[CV 5/5] END max_depth=30, max_features=auto, min_samples_leaf=5, min_samples_split=100, n_estimators=800;, score=0.844 total time=   3.3s\n",
      "[CV 1/5] END max_depth=30, max_features=auto, min_samples_leaf=5, min_samples_split=5, n_estimators=1000;, score=0.858 total time=   5.1s\n",
      "[CV 2/5] END max_depth=30, max_features=auto, min_samples_leaf=5, min_samples_split=5, n_estimators=1000;, score=0.913 total time=   4.8s\n",
      "[CV 3/5] END max_depth=30, max_features=auto, min_samples_leaf=5, min_samples_split=5, n_estimators=1000;, score=0.824 total time=   5.1s\n",
      "[CV 4/5] END max_depth=30, max_features=auto, min_samples_leaf=5, min_samples_split=5, n_estimators=1000;, score=0.784 total time=   5.5s\n",
      "[CV 5/5] END max_depth=30, max_features=auto, min_samples_leaf=5, min_samples_split=5, n_estimators=1000;, score=0.849 total time=   5.5s\n",
      "[CV 1/5] END max_depth=20, max_features=auto, min_samples_leaf=5, min_samples_split=100, n_estimators=100;, score=0.846 total time=   0.4s\n",
      "[CV 2/5] END max_depth=20, max_features=auto, min_samples_leaf=5, min_samples_split=100, n_estimators=100;, score=0.816 total time=   0.4s\n",
      "[CV 3/5] END max_depth=20, max_features=auto, min_samples_leaf=5, min_samples_split=100, n_estimators=100;, score=0.805 total time=   0.4s\n",
      "[CV 4/5] END max_depth=20, max_features=auto, min_samples_leaf=5, min_samples_split=100, n_estimators=100;, score=0.761 total time=   0.4s\n",
      "[CV 5/5] END max_depth=20, max_features=auto, min_samples_leaf=5, min_samples_split=100, n_estimators=100;, score=0.844 total time=   0.4s\n",
      "[CV 1/5] END max_depth=25, max_features=log2, min_samples_leaf=10, min_samples_split=2, n_estimators=800;, score=0.824 total time=   2.6s\n",
      "[CV 2/5] END max_depth=25, max_features=log2, min_samples_leaf=10, min_samples_split=2, n_estimators=800;, score=0.855 total time=   2.4s\n",
      "[CV 3/5] END max_depth=25, max_features=log2, min_samples_leaf=10, min_samples_split=2, n_estimators=800;, score=0.795 total time=   2.4s\n",
      "[CV 4/5] END max_depth=25, max_features=log2, min_samples_leaf=10, min_samples_split=2, n_estimators=800;, score=0.754 total time=   2.4s\n",
      "[CV 5/5] END max_depth=25, max_features=log2, min_samples_leaf=10, min_samples_split=2, n_estimators=800;, score=0.793 total time=   2.6s\n",
      "[CV 1/5] END max_depth=30, max_features=auto, min_samples_leaf=2, min_samples_split=100, n_estimators=700;, score=0.845 total time=   2.7s\n",
      "[CV 2/5] END max_depth=30, max_features=auto, min_samples_leaf=2, min_samples_split=100, n_estimators=700;, score=0.831 total time=   2.7s\n",
      "[CV 3/5] END max_depth=30, max_features=auto, min_samples_leaf=2, min_samples_split=100, n_estimators=700;, score=0.806 total time=   2.7s\n",
      "[CV 4/5] END max_depth=30, max_features=auto, min_samples_leaf=2, min_samples_split=100, n_estimators=700;, score=0.765 total time=   2.6s\n",
      "[CV 5/5] END max_depth=30, max_features=auto, min_samples_leaf=2, min_samples_split=100, n_estimators=700;, score=0.844 total time=   2.6s\n",
      "[CV 1/5] END max_depth=15, max_features=auto, min_samples_leaf=5, min_samples_split=5, n_estimators=800;, score=0.858 total time=   3.9s\n",
      "[CV 2/5] END max_depth=15, max_features=auto, min_samples_leaf=5, min_samples_split=5, n_estimators=800;, score=0.913 total time=   3.9s\n",
      "[CV 3/5] END max_depth=15, max_features=auto, min_samples_leaf=5, min_samples_split=5, n_estimators=800;, score=0.824 total time=   3.8s\n",
      "[CV 4/5] END max_depth=15, max_features=auto, min_samples_leaf=5, min_samples_split=5, n_estimators=800;, score=0.784 total time=   3.9s\n",
      "[CV 5/5] END max_depth=15, max_features=auto, min_samples_leaf=5, min_samples_split=5, n_estimators=800;, score=0.849 total time=   3.9s\n",
      "[CV 1/5] END max_depth=30, max_features=auto, min_samples_leaf=1, min_samples_split=2, n_estimators=900;, score=0.843 total time=   5.5s\n",
      "[CV 2/5] END max_depth=30, max_features=auto, min_samples_leaf=1, min_samples_split=2, n_estimators=900;, score=0.892 total time=   5.7s\n",
      "[CV 3/5] END max_depth=30, max_features=auto, min_samples_leaf=1, min_samples_split=2, n_estimators=900;, score=0.804 total time=   5.7s\n",
      "[CV 4/5] END max_depth=30, max_features=auto, min_samples_leaf=1, min_samples_split=2, n_estimators=900;, score=0.758 total time=   5.8s\n",
      "[CV 5/5] END max_depth=30, max_features=auto, min_samples_leaf=1, min_samples_split=2, n_estimators=900;, score=0.832 total time=   5.7s\n",
      "[CV 1/5] END max_depth=10, max_features=auto, min_samples_leaf=10, min_samples_split=5, n_estimators=300;, score=0.861 total time=   1.4s\n",
      "[CV 2/5] END max_depth=10, max_features=auto, min_samples_leaf=10, min_samples_split=5, n_estimators=300;, score=0.916 total time=   1.4s\n",
      "[CV 3/5] END max_depth=10, max_features=auto, min_samples_leaf=10, min_samples_split=5, n_estimators=300;, score=0.833 total time=   1.3s\n",
      "[CV 4/5] END max_depth=10, max_features=auto, min_samples_leaf=10, min_samples_split=5, n_estimators=300;, score=0.787 total time=   1.3s\n",
      "[CV 5/5] END max_depth=10, max_features=auto, min_samples_leaf=10, min_samples_split=5, n_estimators=300;, score=0.851 total time=   1.3s\n",
      "[CV 1/5] END max_depth=5, max_features=log2, min_samples_leaf=10, min_samples_split=5, n_estimators=200;, score=0.817 total time=   0.6s\n",
      "[CV 2/5] END max_depth=5, max_features=log2, min_samples_leaf=10, min_samples_split=5, n_estimators=200;, score=0.848 total time=   0.5s\n",
      "[CV 3/5] END max_depth=5, max_features=log2, min_samples_leaf=10, min_samples_split=5, n_estimators=200;, score=0.787 total time=   0.5s\n",
      "[CV 4/5] END max_depth=5, max_features=log2, min_samples_leaf=10, min_samples_split=5, n_estimators=200;, score=0.750 total time=   0.6s\n",
      "[CV 5/5] END max_depth=5, max_features=log2, min_samples_leaf=10, min_samples_split=5, n_estimators=200;, score=0.777 total time=   0.5s\n",
      "[CV 1/5] END max_depth=30, max_features=log2, min_samples_leaf=1, min_samples_split=5, n_estimators=400;, score=0.856 total time=   1.4s\n",
      "[CV 2/5] END max_depth=30, max_features=log2, min_samples_leaf=1, min_samples_split=5, n_estimators=400;, score=0.902 total time=   1.4s\n",
      "[CV 3/5] END max_depth=30, max_features=log2, min_samples_leaf=1, min_samples_split=5, n_estimators=400;, score=0.828 total time=   1.4s\n",
      "[CV 4/5] END max_depth=30, max_features=log2, min_samples_leaf=1, min_samples_split=5, n_estimators=400;, score=0.778 total time=   1.4s\n",
      "[CV 5/5] END max_depth=30, max_features=log2, min_samples_leaf=1, min_samples_split=5, n_estimators=400;, score=0.835 total time=   1.3s\n"
     ]
    },
    {
     "data": {
      "text/html": [
       "<style>#sk-container-id-4 {color: black;background-color: white;}#sk-container-id-4 pre{padding: 0;}#sk-container-id-4 div.sk-toggleable {background-color: white;}#sk-container-id-4 label.sk-toggleable__label {cursor: pointer;display: block;width: 100%;margin-bottom: 0;padding: 0.3em;box-sizing: border-box;text-align: center;}#sk-container-id-4 label.sk-toggleable__label-arrow:before {content: \"▸\";float: left;margin-right: 0.25em;color: #696969;}#sk-container-id-4 label.sk-toggleable__label-arrow:hover:before {color: black;}#sk-container-id-4 div.sk-estimator:hover label.sk-toggleable__label-arrow:before {color: black;}#sk-container-id-4 div.sk-toggleable__content {max-height: 0;max-width: 0;overflow: hidden;text-align: left;background-color: #f0f8ff;}#sk-container-id-4 div.sk-toggleable__content pre {margin: 0.2em;color: black;border-radius: 0.25em;background-color: #f0f8ff;}#sk-container-id-4 input.sk-toggleable__control:checked~div.sk-toggleable__content {max-height: 200px;max-width: 100%;overflow: auto;}#sk-container-id-4 input.sk-toggleable__control:checked~label.sk-toggleable__label-arrow:before {content: \"▾\";}#sk-container-id-4 div.sk-estimator input.sk-toggleable__control:checked~label.sk-toggleable__label {background-color: #d4ebff;}#sk-container-id-4 div.sk-label input.sk-toggleable__control:checked~label.sk-toggleable__label {background-color: #d4ebff;}#sk-container-id-4 input.sk-hidden--visually {border: 0;clip: rect(1px 1px 1px 1px);clip: rect(1px, 1px, 1px, 1px);height: 1px;margin: -1px;overflow: hidden;padding: 0;position: absolute;width: 1px;}#sk-container-id-4 div.sk-estimator {font-family: monospace;background-color: #f0f8ff;border: 1px dotted black;border-radius: 0.25em;box-sizing: border-box;margin-bottom: 0.5em;}#sk-container-id-4 div.sk-estimator:hover {background-color: #d4ebff;}#sk-container-id-4 div.sk-parallel-item::after {content: \"\";width: 100%;border-bottom: 1px solid gray;flex-grow: 1;}#sk-container-id-4 div.sk-label:hover label.sk-toggleable__label {background-color: #d4ebff;}#sk-container-id-4 div.sk-serial::before {content: \"\";position: absolute;border-left: 1px solid gray;box-sizing: border-box;top: 0;bottom: 0;left: 50%;z-index: 0;}#sk-container-id-4 div.sk-serial {display: flex;flex-direction: column;align-items: center;background-color: white;padding-right: 0.2em;padding-left: 0.2em;position: relative;}#sk-container-id-4 div.sk-item {position: relative;z-index: 1;}#sk-container-id-4 div.sk-parallel {display: flex;align-items: stretch;justify-content: center;background-color: white;position: relative;}#sk-container-id-4 div.sk-item::before, #sk-container-id-4 div.sk-parallel-item::before {content: \"\";position: absolute;border-left: 1px solid gray;box-sizing: border-box;top: 0;bottom: 0;left: 50%;z-index: -1;}#sk-container-id-4 div.sk-parallel-item {display: flex;flex-direction: column;z-index: 1;position: relative;background-color: white;}#sk-container-id-4 div.sk-parallel-item:first-child::after {align-self: flex-end;width: 50%;}#sk-container-id-4 div.sk-parallel-item:last-child::after {align-self: flex-start;width: 50%;}#sk-container-id-4 div.sk-parallel-item:only-child::after {width: 0;}#sk-container-id-4 div.sk-dashed-wrapped {border: 1px dashed gray;margin: 0 0.4em 0.5em 0.4em;box-sizing: border-box;padding-bottom: 0.4em;background-color: white;}#sk-container-id-4 div.sk-label label {font-family: monospace;font-weight: bold;display: inline-block;line-height: 1.2em;}#sk-container-id-4 div.sk-label-container {text-align: center;}#sk-container-id-4 div.sk-container {/* jupyter's `normalize.less` sets `[hidden] { display: none; }` but bootstrap.min.css set `[hidden] { display: none !important; }` so we also need the `!important` here to be able to override the default hidden behavior on the sphinx rendered scikit-learn.org. See: https://github.com/scikit-learn/scikit-learn/issues/21755 */display: inline-block !important;position: relative;}#sk-container-id-4 div.sk-text-repr-fallback {display: none;}</style><div id=\"sk-container-id-4\" class=\"sk-top-container\"><div class=\"sk-text-repr-fallback\"><pre>RandomizedSearchCV(cv=5, estimator=RandomForestRegressor(random_state=42),\n",
       "                   param_distributions={&#x27;max_depth&#x27;: [5, 10, 15, 20, 25, 30],\n",
       "                                        &#x27;max_features&#x27;: [&#x27;auto&#x27;, &#x27;log2&#x27;],\n",
       "                                        &#x27;min_samples_leaf&#x27;: [1, 2, 5, 10],\n",
       "                                        &#x27;min_samples_split&#x27;: [2, 5, 10, 15,\n",
       "                                                              100],\n",
       "                                        &#x27;n_estimators&#x27;: [100, 200, 300, 400,\n",
       "                                                         500, 600, 700, 800,\n",
       "                                                         900, 1000, 1100,\n",
       "                                                         1200]},\n",
       "                   random_state=2, verbose=5)</pre><b>In a Jupyter environment, please rerun this cell to show the HTML representation or trust the notebook. <br />On GitHub, the HTML representation is unable to render, please try loading this page with nbviewer.org.</b></div><div class=\"sk-container\" hidden><div class=\"sk-item sk-dashed-wrapped\"><div class=\"sk-label-container\"><div class=\"sk-label sk-toggleable\"><input class=\"sk-toggleable__control sk-hidden--visually\" id=\"sk-estimator-id-6\" type=\"checkbox\" ><label for=\"sk-estimator-id-6\" class=\"sk-toggleable__label sk-toggleable__label-arrow\">RandomizedSearchCV</label><div class=\"sk-toggleable__content\"><pre>RandomizedSearchCV(cv=5, estimator=RandomForestRegressor(random_state=42),\n",
       "                   param_distributions={&#x27;max_depth&#x27;: [5, 10, 15, 20, 25, 30],\n",
       "                                        &#x27;max_features&#x27;: [&#x27;auto&#x27;, &#x27;log2&#x27;],\n",
       "                                        &#x27;min_samples_leaf&#x27;: [1, 2, 5, 10],\n",
       "                                        &#x27;min_samples_split&#x27;: [2, 5, 10, 15,\n",
       "                                                              100],\n",
       "                                        &#x27;n_estimators&#x27;: [100, 200, 300, 400,\n",
       "                                                         500, 600, 700, 800,\n",
       "                                                         900, 1000, 1100,\n",
       "                                                         1200]},\n",
       "                   random_state=2, verbose=5)</pre></div></div></div><div class=\"sk-parallel\"><div class=\"sk-parallel-item\"><div class=\"sk-item\"><div class=\"sk-label-container\"><div class=\"sk-label sk-toggleable\"><input class=\"sk-toggleable__control sk-hidden--visually\" id=\"sk-estimator-id-7\" type=\"checkbox\" ><label for=\"sk-estimator-id-7\" class=\"sk-toggleable__label sk-toggleable__label-arrow\">estimator: RandomForestRegressor</label><div class=\"sk-toggleable__content\"><pre>RandomForestRegressor(random_state=42)</pre></div></div></div><div class=\"sk-serial\"><div class=\"sk-item\"><div class=\"sk-estimator sk-toggleable\"><input class=\"sk-toggleable__control sk-hidden--visually\" id=\"sk-estimator-id-8\" type=\"checkbox\" ><label for=\"sk-estimator-id-8\" class=\"sk-toggleable__label sk-toggleable__label-arrow\">RandomForestRegressor</label><div class=\"sk-toggleable__content\"><pre>RandomForestRegressor(random_state=42)</pre></div></div></div></div></div></div></div></div></div></div>"
      ],
      "text/plain": [
       "RandomizedSearchCV(cv=5, estimator=RandomForestRegressor(random_state=42),\n",
       "                   param_distributions={'max_depth': [5, 10, 15, 20, 25, 30],\n",
       "                                        'max_features': ['auto', 'log2'],\n",
       "                                        'min_samples_leaf': [1, 2, 5, 10],\n",
       "                                        'min_samples_split': [2, 5, 10, 15,\n",
       "                                                              100],\n",
       "                                        'n_estimators': [100, 200, 300, 400,\n",
       "                                                         500, 600, 700, 800,\n",
       "                                                         900, 1000, 1100,\n",
       "                                                         1200]},\n",
       "                   random_state=2, verbose=5)"
      ]
     },
     "execution_count": 83,
     "metadata": {},
     "output_type": "execute_result"
    }
   ],
   "source": [
    "hyper_tuning.fit(x_train,y_train)"
   ]
  },
  {
   "cell_type": "code",
   "execution_count": 84,
   "id": "7ac64b82",
   "metadata": {},
   "outputs": [
    {
     "data": {
      "text/plain": [
       "{'n_estimators': 300,\n",
       " 'min_samples_split': 5,\n",
       " 'min_samples_leaf': 10,\n",
       " 'max_features': 'auto',\n",
       " 'max_depth': 10}"
      ]
     },
     "execution_count": 84,
     "metadata": {},
     "output_type": "execute_result"
    }
   ],
   "source": [
    "hyper_tuning.best_params_"
   ]
  },
  {
   "cell_type": "code",
   "execution_count": 85,
   "id": "909d8af6",
   "metadata": {},
   "outputs": [],
   "source": [
    "rfr_hyper=RandomForestRegressor(n_estimators=700,min_samples_split=5,min_samples_leaf=10,max_features='auto',max_depth=20)"
   ]
  },
  {
   "cell_type": "code",
   "execution_count": 86,
   "id": "6498952c",
   "metadata": {},
   "outputs": [
    {
     "data": {
      "text/html": [
       "<style>#sk-container-id-5 {color: black;background-color: white;}#sk-container-id-5 pre{padding: 0;}#sk-container-id-5 div.sk-toggleable {background-color: white;}#sk-container-id-5 label.sk-toggleable__label {cursor: pointer;display: block;width: 100%;margin-bottom: 0;padding: 0.3em;box-sizing: border-box;text-align: center;}#sk-container-id-5 label.sk-toggleable__label-arrow:before {content: \"▸\";float: left;margin-right: 0.25em;color: #696969;}#sk-container-id-5 label.sk-toggleable__label-arrow:hover:before {color: black;}#sk-container-id-5 div.sk-estimator:hover label.sk-toggleable__label-arrow:before {color: black;}#sk-container-id-5 div.sk-toggleable__content {max-height: 0;max-width: 0;overflow: hidden;text-align: left;background-color: #f0f8ff;}#sk-container-id-5 div.sk-toggleable__content pre {margin: 0.2em;color: black;border-radius: 0.25em;background-color: #f0f8ff;}#sk-container-id-5 input.sk-toggleable__control:checked~div.sk-toggleable__content {max-height: 200px;max-width: 100%;overflow: auto;}#sk-container-id-5 input.sk-toggleable__control:checked~label.sk-toggleable__label-arrow:before {content: \"▾\";}#sk-container-id-5 div.sk-estimator input.sk-toggleable__control:checked~label.sk-toggleable__label {background-color: #d4ebff;}#sk-container-id-5 div.sk-label input.sk-toggleable__control:checked~label.sk-toggleable__label {background-color: #d4ebff;}#sk-container-id-5 input.sk-hidden--visually {border: 0;clip: rect(1px 1px 1px 1px);clip: rect(1px, 1px, 1px, 1px);height: 1px;margin: -1px;overflow: hidden;padding: 0;position: absolute;width: 1px;}#sk-container-id-5 div.sk-estimator {font-family: monospace;background-color: #f0f8ff;border: 1px dotted black;border-radius: 0.25em;box-sizing: border-box;margin-bottom: 0.5em;}#sk-container-id-5 div.sk-estimator:hover {background-color: #d4ebff;}#sk-container-id-5 div.sk-parallel-item::after {content: \"\";width: 100%;border-bottom: 1px solid gray;flex-grow: 1;}#sk-container-id-5 div.sk-label:hover label.sk-toggleable__label {background-color: #d4ebff;}#sk-container-id-5 div.sk-serial::before {content: \"\";position: absolute;border-left: 1px solid gray;box-sizing: border-box;top: 0;bottom: 0;left: 50%;z-index: 0;}#sk-container-id-5 div.sk-serial {display: flex;flex-direction: column;align-items: center;background-color: white;padding-right: 0.2em;padding-left: 0.2em;position: relative;}#sk-container-id-5 div.sk-item {position: relative;z-index: 1;}#sk-container-id-5 div.sk-parallel {display: flex;align-items: stretch;justify-content: center;background-color: white;position: relative;}#sk-container-id-5 div.sk-item::before, #sk-container-id-5 div.sk-parallel-item::before {content: \"\";position: absolute;border-left: 1px solid gray;box-sizing: border-box;top: 0;bottom: 0;left: 50%;z-index: -1;}#sk-container-id-5 div.sk-parallel-item {display: flex;flex-direction: column;z-index: 1;position: relative;background-color: white;}#sk-container-id-5 div.sk-parallel-item:first-child::after {align-self: flex-end;width: 50%;}#sk-container-id-5 div.sk-parallel-item:last-child::after {align-self: flex-start;width: 50%;}#sk-container-id-5 div.sk-parallel-item:only-child::after {width: 0;}#sk-container-id-5 div.sk-dashed-wrapped {border: 1px dashed gray;margin: 0 0.4em 0.5em 0.4em;box-sizing: border-box;padding-bottom: 0.4em;background-color: white;}#sk-container-id-5 div.sk-label label {font-family: monospace;font-weight: bold;display: inline-block;line-height: 1.2em;}#sk-container-id-5 div.sk-label-container {text-align: center;}#sk-container-id-5 div.sk-container {/* jupyter's `normalize.less` sets `[hidden] { display: none; }` but bootstrap.min.css set `[hidden] { display: none !important; }` so we also need the `!important` here to be able to override the default hidden behavior on the sphinx rendered scikit-learn.org. See: https://github.com/scikit-learn/scikit-learn/issues/21755 */display: inline-block !important;position: relative;}#sk-container-id-5 div.sk-text-repr-fallback {display: none;}</style><div id=\"sk-container-id-5\" class=\"sk-top-container\"><div class=\"sk-text-repr-fallback\"><pre>RandomForestRegressor(max_depth=20, max_features=&#x27;auto&#x27;, min_samples_leaf=10,\n",
       "                      min_samples_split=5, n_estimators=700)</pre><b>In a Jupyter environment, please rerun this cell to show the HTML representation or trust the notebook. <br />On GitHub, the HTML representation is unable to render, please try loading this page with nbviewer.org.</b></div><div class=\"sk-container\" hidden><div class=\"sk-item\"><div class=\"sk-estimator sk-toggleable\"><input class=\"sk-toggleable__control sk-hidden--visually\" id=\"sk-estimator-id-9\" type=\"checkbox\" checked><label for=\"sk-estimator-id-9\" class=\"sk-toggleable__label sk-toggleable__label-arrow\">RandomForestRegressor</label><div class=\"sk-toggleable__content\"><pre>RandomForestRegressor(max_depth=20, max_features=&#x27;auto&#x27;, min_samples_leaf=10,\n",
       "                      min_samples_split=5, n_estimators=700)</pre></div></div></div></div></div>"
      ],
      "text/plain": [
       "RandomForestRegressor(max_depth=20, max_features='auto', min_samples_leaf=10,\n",
       "                      min_samples_split=5, n_estimators=700)"
      ]
     },
     "execution_count": 86,
     "metadata": {},
     "output_type": "execute_result"
    }
   ],
   "source": [
    "rfr_hyper.fit(x_train,y_train)"
   ]
  },
  {
   "cell_type": "code",
   "execution_count": 87,
   "id": "d431f6c1",
   "metadata": {},
   "outputs": [],
   "source": [
    "tuning_predict=rfr_hyper.predict(x_test)"
   ]
  },
  {
   "cell_type": "code",
   "execution_count": 88,
   "id": "3d187e71",
   "metadata": {},
   "outputs": [
    {
     "data": {
      "text/plain": [
       "array([10475.26429238,  5335.41303935, 27051.25065075, 10554.80864282,\n",
       "       35054.91363205,  6498.25974065,  2111.52227034, 14126.91168634,\n",
       "        5480.56927409, 11804.9289454 , 18963.35570487,  7861.2125813 ,\n",
       "        4786.4787427 , 45423.71681278, 47524.96761868, 45415.80811916,\n",
       "       10565.36172955, 45214.53097497, 10571.92972649, 24938.92309803,\n",
       "        5696.15107726,  9057.07576678,  1948.81093478,  3323.26521682,\n",
       "       12542.03643286, 12722.19282399, 13891.44828906,  6410.80312818,\n",
       "       11905.81183768,  2036.34261227,  7834.4589275 , 12439.57894358,\n",
       "        2893.35407794,  6621.47101456,  3804.39940548, 10770.01734404,\n",
       "        3629.7796288 ,  8524.81500852, 24239.54278941, 41757.05159558,\n",
       "        4696.2210886 ,  5070.80015329, 12623.85495087, 14110.02727587,\n",
       "        6699.89902972, 16493.07930376,  7389.28331793,  5466.04056565,\n",
       "       43555.12251849,  6152.58986161, 14265.09726777,  3666.09987486,\n",
       "        7559.44593501,  2758.65342697, 11896.48469734, 11669.14339543,\n",
       "        4192.51700443, 40605.64775596, 12285.39947447, 12436.35662252,\n",
       "       14053.46685148,  5962.26485015, 18299.04592492,  7692.68988856,\n",
       "       11387.65905902,  5666.6711184 , 18459.99821355, 12415.59219464,\n",
       "        6455.23615646,  2569.59706193,  8291.24833556, 10943.88115941,\n",
       "        9910.98377147,  8020.09184634,  9014.67103271,  5169.65166674,\n",
       "        8735.85635762, 12397.18872503,  5105.27746274, 10176.1088675 ,\n",
       "        2271.34327784, 27148.24085042,  5578.84404729, 37879.09778399,\n",
       "       38016.78231727, 43307.97667794,  5596.20861169, 12307.29763679,\n",
       "        9662.41311106, 13541.96657629, 18436.62325425, 24487.43970318,\n",
       "       26530.64986105,  6888.01284864, 43003.59574   ,  7833.38355686,\n",
       "       20158.64018006,  2750.75364355, 17854.8061236 ,  8043.82656222,\n",
       "        5409.8992155 ,  2216.533702  ,  7637.15036087, 14121.07284047,\n",
       "       14644.93537717,  4379.43963726,  9504.72647677, 24437.95949935,\n",
       "        2768.52667445, 24295.53103284,  1799.27600873,  4569.70622649,\n",
       "       13194.6843964 , 41294.71197225, 11177.16196787,  4408.75110012,\n",
       "       13381.84361474, 24809.7349024 ,  7056.51683026,  5752.03272812,\n",
       "        7266.85337469,  8661.80420146, 13545.45403834,  3709.03972744,\n",
       "        6905.69880584,  8047.11148956,  9057.56645902, 10944.55048381,\n",
       "       13774.22701063,  3821.07996869,  4392.43087571,  6984.90820025,\n",
       "        6782.59180086, 11081.54401989,  6757.86258969, 17315.41938968,\n",
       "        5824.59326248, 36105.91275502, 45496.29778814, 41439.72386567,\n",
       "        5304.63071387, 11621.47956466,  3266.51073201, 13475.04291962,\n",
       "        3379.87291001, 24578.13903146,  6369.65328619,  4429.05623263,\n",
       "       12709.33488063,  5518.61142138, 46730.15287645,  5070.56909678,\n",
       "        1670.5914005 , 41093.39255276,  7431.92713549,  5791.27477924,\n",
       "       13748.64802331, 10863.50342208, 35308.43229752, 41298.27746594,\n",
       "       14184.90939024,  3944.41108498, 17720.9356104 ,  4971.78008529,\n",
       "        5117.75992838,  8580.35006536, 47423.92527779, 46373.7961807 ,\n",
       "       42202.96946938,  4381.92703137, 10981.34297843,  6877.06547221,\n",
       "        7783.42564688,  5246.02911068,  2841.79820909, 24504.55554709,\n",
       "       18584.8737624 , 14121.28318147, 17019.85571618, 11988.87567732,\n",
       "       27063.38052614,  5529.83659945, 10108.15893828,  5734.48821185,\n",
       "        7341.85654491,  4959.64183613,  6760.22769906,  4458.3294862 ,\n",
       "        9734.01786124, 12439.74275476,  5063.99387588,  3387.66527273,\n",
       "        3285.11611675, 43192.84391989, 14102.2565807 ,  9971.6857782 ,\n",
       "        3941.96348842, 13887.86347559,  3024.41918267, 11781.85823982,\n",
       "        5287.66886492, 26969.88243928,  6323.32046645,  5406.72199651,\n",
       "       18446.92752631, 18596.54653674, 11593.60626514,  6159.66826799,\n",
       "        9863.90922824,  5120.85596908, 14758.89067963, 13173.34658003,\n",
       "       11595.66754413, 18912.31687056,  7625.55072392,  4436.22197861,\n",
       "        5415.04829224, 17158.8835699 , 14800.58762318,  5920.93615296,\n",
       "        2757.44929055,  9729.5998424 ,  8237.56632685, 44751.11343855,\n",
       "        2956.56869123, 38323.41200377,  2028.23781121,  2206.51451593,\n",
       "        9935.57513128, 10725.50523302,  2562.0124991 , 10712.76742722,\n",
       "        5731.97581204, 25026.52100846, 10825.94927198, 10138.80096463,\n",
       "        6012.97927212,  7439.5262203 , 44445.88965609,  2921.77376302,\n",
       "       14753.11806827, 40240.0253311 ,  4146.24355655,  4323.03160676,\n",
       "        1680.17277028,  3668.44413623,  4723.42974777,  5093.91475944,\n",
       "       11936.00279413,  1697.22077208,  2586.53204575,  8361.59155194,\n",
       "        4304.2205932 , 12161.47488135,  4654.06351948,  4493.71505288,\n",
       "       13387.17600506,  5735.14954026, 10201.65837815,  8014.87449841,\n",
       "        7537.74573304, 15041.13833983, 19576.21181731, 47045.22216995,\n",
       "       12555.71908176,  6810.78615292, 46826.52788316,  9973.23966737,\n",
       "        9775.29940733, 11133.50268857, 11199.84537087,  8462.9553431 ,\n",
       "       14197.82857421, 14121.28318147,  2802.7177059 , 16413.82652328,\n",
       "        8396.69596339, 41324.84620987,  7343.2543066 , 10233.06461775,\n",
       "       10672.20871042, 14360.47137843, 10371.89621348, 10266.87215264,\n",
       "       41032.71905544,  3535.19524702, 10519.12786447, 46774.02290155,\n",
       "        5948.07133537,  3764.747709  ,  3677.61547166, 11729.28812348,\n",
       "       16527.10960598, 12332.52077635,  9762.437506  , 12318.91409101,\n",
       "       10528.17061967,  4943.24482282,  2976.21400194, 37971.44762295,\n",
       "       41242.51488993,  8735.54671818,  5977.2636846 , 18480.19238148,\n",
       "       16524.35400764, 40562.04597977,  3666.43839756, 46710.05189696,\n",
       "        7207.67236687,  2256.95087106,  6285.18957688,  3825.04802681,\n",
       "       17861.41760856, 14040.73492401,  3560.24496822, 14057.53072594,\n",
       "       12137.40410392, 13085.98631755, 44340.96648693, 13748.58819157,\n",
       "       24248.30460688,  7702.57540746, 18459.88945576,  5023.4945578 ,\n",
       "       11224.91184584, 10258.77349578, 17719.89863509, 12924.75940479,\n",
       "        4339.59763719, 12392.84023889, 13962.27811693, 12556.25836292,\n",
       "        5636.36956626, 35049.56844346,  7218.19968115])"
      ]
     },
     "execution_count": 88,
     "metadata": {},
     "output_type": "execute_result"
    }
   ],
   "source": [
    "tuning_predict"
   ]
  },
  {
   "cell_type": "code",
   "execution_count": 89,
   "id": "99ba235c",
   "metadata": {},
   "outputs": [
    {
     "data": {
      "text/plain": [
       "764      9095.06825\n",
       "887      5272.17580\n",
       "890     29330.98315\n",
       "1293     9301.89355\n",
       "259     33750.29180\n",
       "           ...     \n",
       "342     13217.09450\n",
       "308     11944.59435\n",
       "1128    14358.36437\n",
       "503     32548.34050\n",
       "1197     5699.83750\n",
       "Name: charges, Length: 335, dtype: float64"
      ]
     },
     "execution_count": 89,
     "metadata": {},
     "output_type": "execute_result"
    }
   ],
   "source": [
    "y_test"
   ]
  },
  {
   "cell_type": "code",
   "execution_count": 90,
   "id": "44b56941",
   "metadata": {},
   "outputs": [
    {
     "name": "stdout",
     "output_type": "stream",
     "text": [
      "Random Forest Regressor hyper parametric tuning for training : 0.8904609394916875\n"
     ]
    }
   ],
   "source": [
    "print('Random Forest Regressor hyper parametric tuning for training :',rfr_hyper.score(x_train,y_train))"
   ]
  },
  {
   "cell_type": "code",
   "execution_count": 91,
   "id": "53fab538",
   "metadata": {},
   "outputs": [
    {
     "name": "stdout",
     "output_type": "stream",
     "text": [
      "Random Forest Regressor hyper parametric tuning for testing : 0.8648799609901484\n"
     ]
    }
   ],
   "source": [
    "print('Random Forest Regressor hyper parametric tuning for testing :',rfr_hyper.score(x_test,y_test))"
   ]
  },
  {
   "cell_type": "markdown",
   "id": "c3690e28",
   "metadata": {},
   "source": [
    "## Gradient Boosting"
   ]
  },
  {
   "cell_type": "code",
   "execution_count": 92,
   "id": "d070904c",
   "metadata": {},
   "outputs": [],
   "source": [
    "from sklearn.ensemble import GradientBoostingRegressor"
   ]
  },
  {
   "cell_type": "code",
   "execution_count": 93,
   "id": "2c47f5f4",
   "metadata": {},
   "outputs": [],
   "source": [
    "gbr=GradientBoostingRegressor()"
   ]
  },
  {
   "cell_type": "code",
   "execution_count": 94,
   "id": "08523d0f",
   "metadata": {},
   "outputs": [
    {
     "data": {
      "text/html": [
       "<style>#sk-container-id-6 {color: black;background-color: white;}#sk-container-id-6 pre{padding: 0;}#sk-container-id-6 div.sk-toggleable {background-color: white;}#sk-container-id-6 label.sk-toggleable__label {cursor: pointer;display: block;width: 100%;margin-bottom: 0;padding: 0.3em;box-sizing: border-box;text-align: center;}#sk-container-id-6 label.sk-toggleable__label-arrow:before {content: \"▸\";float: left;margin-right: 0.25em;color: #696969;}#sk-container-id-6 label.sk-toggleable__label-arrow:hover:before {color: black;}#sk-container-id-6 div.sk-estimator:hover label.sk-toggleable__label-arrow:before {color: black;}#sk-container-id-6 div.sk-toggleable__content {max-height: 0;max-width: 0;overflow: hidden;text-align: left;background-color: #f0f8ff;}#sk-container-id-6 div.sk-toggleable__content pre {margin: 0.2em;color: black;border-radius: 0.25em;background-color: #f0f8ff;}#sk-container-id-6 input.sk-toggleable__control:checked~div.sk-toggleable__content {max-height: 200px;max-width: 100%;overflow: auto;}#sk-container-id-6 input.sk-toggleable__control:checked~label.sk-toggleable__label-arrow:before {content: \"▾\";}#sk-container-id-6 div.sk-estimator input.sk-toggleable__control:checked~label.sk-toggleable__label {background-color: #d4ebff;}#sk-container-id-6 div.sk-label input.sk-toggleable__control:checked~label.sk-toggleable__label {background-color: #d4ebff;}#sk-container-id-6 input.sk-hidden--visually {border: 0;clip: rect(1px 1px 1px 1px);clip: rect(1px, 1px, 1px, 1px);height: 1px;margin: -1px;overflow: hidden;padding: 0;position: absolute;width: 1px;}#sk-container-id-6 div.sk-estimator {font-family: monospace;background-color: #f0f8ff;border: 1px dotted black;border-radius: 0.25em;box-sizing: border-box;margin-bottom: 0.5em;}#sk-container-id-6 div.sk-estimator:hover {background-color: #d4ebff;}#sk-container-id-6 div.sk-parallel-item::after {content: \"\";width: 100%;border-bottom: 1px solid gray;flex-grow: 1;}#sk-container-id-6 div.sk-label:hover label.sk-toggleable__label {background-color: #d4ebff;}#sk-container-id-6 div.sk-serial::before {content: \"\";position: absolute;border-left: 1px solid gray;box-sizing: border-box;top: 0;bottom: 0;left: 50%;z-index: 0;}#sk-container-id-6 div.sk-serial {display: flex;flex-direction: column;align-items: center;background-color: white;padding-right: 0.2em;padding-left: 0.2em;position: relative;}#sk-container-id-6 div.sk-item {position: relative;z-index: 1;}#sk-container-id-6 div.sk-parallel {display: flex;align-items: stretch;justify-content: center;background-color: white;position: relative;}#sk-container-id-6 div.sk-item::before, #sk-container-id-6 div.sk-parallel-item::before {content: \"\";position: absolute;border-left: 1px solid gray;box-sizing: border-box;top: 0;bottom: 0;left: 50%;z-index: -1;}#sk-container-id-6 div.sk-parallel-item {display: flex;flex-direction: column;z-index: 1;position: relative;background-color: white;}#sk-container-id-6 div.sk-parallel-item:first-child::after {align-self: flex-end;width: 50%;}#sk-container-id-6 div.sk-parallel-item:last-child::after {align-self: flex-start;width: 50%;}#sk-container-id-6 div.sk-parallel-item:only-child::after {width: 0;}#sk-container-id-6 div.sk-dashed-wrapped {border: 1px dashed gray;margin: 0 0.4em 0.5em 0.4em;box-sizing: border-box;padding-bottom: 0.4em;background-color: white;}#sk-container-id-6 div.sk-label label {font-family: monospace;font-weight: bold;display: inline-block;line-height: 1.2em;}#sk-container-id-6 div.sk-label-container {text-align: center;}#sk-container-id-6 div.sk-container {/* jupyter's `normalize.less` sets `[hidden] { display: none; }` but bootstrap.min.css set `[hidden] { display: none !important; }` so we also need the `!important` here to be able to override the default hidden behavior on the sphinx rendered scikit-learn.org. See: https://github.com/scikit-learn/scikit-learn/issues/21755 */display: inline-block !important;position: relative;}#sk-container-id-6 div.sk-text-repr-fallback {display: none;}</style><div id=\"sk-container-id-6\" class=\"sk-top-container\"><div class=\"sk-text-repr-fallback\"><pre>GradientBoostingRegressor()</pre><b>In a Jupyter environment, please rerun this cell to show the HTML representation or trust the notebook. <br />On GitHub, the HTML representation is unable to render, please try loading this page with nbviewer.org.</b></div><div class=\"sk-container\" hidden><div class=\"sk-item\"><div class=\"sk-estimator sk-toggleable\"><input class=\"sk-toggleable__control sk-hidden--visually\" id=\"sk-estimator-id-10\" type=\"checkbox\" checked><label for=\"sk-estimator-id-10\" class=\"sk-toggleable__label sk-toggleable__label-arrow\">GradientBoostingRegressor</label><div class=\"sk-toggleable__content\"><pre>GradientBoostingRegressor()</pre></div></div></div></div></div>"
      ],
      "text/plain": [
       "GradientBoostingRegressor()"
      ]
     },
     "execution_count": 94,
     "metadata": {},
     "output_type": "execute_result"
    }
   ],
   "source": [
    "gbr.fit(x_train,y_train)"
   ]
  },
  {
   "cell_type": "code",
   "execution_count": 95,
   "id": "1f77951d",
   "metadata": {},
   "outputs": [
    {
     "data": {
      "text/plain": [
       "array([10824.12609662,  5608.41637992, 28475.56854709,  9684.34132176,\n",
       "       34255.13957508,  4694.4502878 ,  1992.25347738, 15222.82548661,\n",
       "        4600.35782708, 10672.99284436, 18639.39713665,  7639.51522107,\n",
       "        4818.31862011, 45372.36921716, 47213.23641278, 45221.86953047,\n",
       "       12096.07185281, 45327.73932083,  9261.1673126 , 23590.41430989,\n",
       "        5817.28667014,  8944.98236497,  1669.59098442,  4272.72486121,\n",
       "       11571.12619051, 13229.82684669, 14697.66737229,  6622.82314428,\n",
       "       11662.33543438,  3022.52423012,  7450.91347669, 11974.45133806,\n",
       "        2874.7445025 ,  6043.57862789,  4735.71406502, 10026.81686506,\n",
       "        4030.4841842 ,  8565.94841278, 25150.55859039, 40693.05346725,\n",
       "       10401.42623888,  4492.58825841, 14205.93458058, 14339.74867497,\n",
       "        7272.6504957 , 16497.8482933 ,  5859.16307627,  6496.10062802,\n",
       "       43107.18441214,  5948.90565584, 14599.91552957,  2718.14148838,\n",
       "        6857.09693647,  2526.10260189, 11944.28093172, 11895.19489254,\n",
       "        4972.74616351, 40679.4538338 , 12280.44076693, 12720.68641269,\n",
       "       14255.06293298,  5635.05729219, 17640.16454446,  8110.80102599,\n",
       "       11301.2803683 ,  6147.00511606, 18591.16035491, 11540.32159981,\n",
       "        5490.72084798,  2353.46438911,  7547.76518658, 11019.64715884,\n",
       "       10516.45040626,  7795.50229767, 10014.77470991,  5268.46859078,\n",
       "        7130.41657154, 12260.8451829 ,  6466.9033407 ,  9387.03791842,\n",
       "        3033.36790339, 27251.01953341,  6913.84307343, 40052.50988485,\n",
       "       39109.60917116, 41984.32933474,  6135.39792223, 12039.34522064,\n",
       "        9802.451099  , 15270.20985506, 26807.41071913, 28384.09043686,\n",
       "       27420.3580351 ,  6882.36089404, 42519.92338324,  6842.98982518,\n",
       "       20758.83981758,  3238.36569894, 18406.2446764 ,  8077.27922689,\n",
       "        5672.32439874,  1563.85823668,  6271.92314402, 14765.49643121,\n",
       "       13599.80853415,  3300.20043428,  9660.65297915, 21552.60200004,\n",
       "        2196.5064037 , 24671.60016281,  1808.49977252,  4606.1102077 ,\n",
       "       13885.06277161, 40925.72285834, 12127.52705769,  3755.74964017,\n",
       "       13700.79346888, 23910.72778764,  7402.41093319,  6336.99747243,\n",
       "        7536.31447509,  8035.22257965, 13187.10940574,  4547.62204309,\n",
       "        6482.09390739,  7971.02063954,  9663.7840523 , 11080.85066116,\n",
       "       14510.02297413,  4340.40321467,  3743.39268013,  7168.14383194,\n",
       "        7531.56239468, 10129.50087547,  5811.24203298, 17089.20507026,\n",
       "        5475.57199113, 35951.18139474, 45176.32369313, 40565.46000006,\n",
       "        5624.67661827, 11482.70621482,  4585.17467237, 13169.17186311,\n",
       "        4094.24877242, 24081.40464363,  7020.64890117,  3672.96343036,\n",
       "       12223.77479286,  5579.75388837, 50877.26851961,  5120.47799413,\n",
       "        2254.64586545, 40327.62774028,  6486.64375283,  5385.36538836,\n",
       "       14315.23441741, 10287.29863154, 34426.60023117, 40332.23830933,\n",
       "       14347.35961519,  3792.92838238, 18399.82204443,  5431.63767087,\n",
       "        5399.1846605 ,  7769.3733619 , 46805.77196148, 44133.71973976,\n",
       "       41542.57887284,  3651.86006308, 10007.75634565,  6452.08896336,\n",
       "        8343.96565167,  5823.34540388,  3985.2261874 , 24339.36138216,\n",
       "       17168.99776424, 14275.82888079, 16123.40995531, 11985.60413484,\n",
       "       27279.6249873 ,  3799.59851524,  9595.3208862 ,  5414.11897786,\n",
       "        6242.26815753,  4682.64056243,  7400.04753773,  4267.66902922,\n",
       "        9861.0944807 , 13230.46941552,  5315.70849239,  2951.10049737,\n",
       "        3776.18848105, 43258.30811693, 15258.51367408, 10516.45040626,\n",
       "        3880.02757002, 14020.10286443,  2964.84914768, 10522.21092959,\n",
       "        4267.01480417, 24890.33461071,  5673.8579185 ,  4038.92281036,\n",
       "       18834.9142842 , 18465.9671491 , 10370.86581526,  4922.44289926,\n",
       "       10379.06580012,  4492.91485269, 13129.0091603 , 12725.43242723,\n",
       "       10448.82582549, 18739.80667858,  8079.72419283,  5158.11646967,\n",
       "        5806.86788792, 16483.69597458, 14809.77787846,  6237.940219  ,\n",
       "        3939.49059615,  9359.72933552,  6870.48671235, 45320.1798513 ,\n",
       "        3268.8822146 , 38469.95213893,  1343.52503969,  2579.05861279,\n",
       "       10892.93091121, 11968.85895711,  3705.30151568, 10580.10413572,\n",
       "        6066.57539333, 23474.6648908 , 11005.12170328, 11096.28675888,\n",
       "        6482.97110242,  5747.35140461, 44310.61586697,  3033.36790339,\n",
       "       14771.7417182 , 40205.9670745 ,  4803.67750798,  5326.8306381 ,\n",
       "        2253.7531103 ,  4504.95996585,  6142.41614534,  4814.62276875,\n",
       "       13044.40249077,  1376.31833585,  3014.6307792 ,  7147.46703916,\n",
       "        4237.39456593, 11468.33104738,  3942.61669846,  5442.0361676 ,\n",
       "       13785.0058429 ,  5887.53150992,  9887.27664387,  7832.6037229 ,\n",
       "        7402.9428065 , 13674.35758456, 20217.02758565, 45129.91359034,\n",
       "       12007.98715424,  6811.07668095, 47838.49582175, 10323.9131005 ,\n",
       "        8856.81834653, 11750.11106953, 10980.28104913,  8447.61194612,\n",
       "       12797.86899727, 14275.82888079,  3323.40256272, 14113.74016804,\n",
       "        7740.20343816, 40457.38358756,  6621.50627169, 11059.82045376,\n",
       "       10451.3267267 , 14748.76174995,  9441.78164784, 10505.58891806,\n",
       "       39991.88945364,  4615.86200704, 11538.63712185, 48152.95087223,\n",
       "        7310.51996581,  5139.74912477,  3857.51899354, 11744.4813574 ,\n",
       "       15841.59630041, 13891.47864819, 10421.37214916, 11257.62504699,\n",
       "       11639.51208048,  4492.91485269,  2800.76142975, 39213.35855837,\n",
       "       39800.85110218,  6985.36256517,  4808.65015396, 20023.69920038,\n",
       "       16794.12056854, 40663.86491641,  4283.02526682, 46216.81777939,\n",
       "        7065.43166729,  1779.84009463,  6907.54726496,  4246.23027393,\n",
       "       18467.33175178, 14610.40805976,  3036.03690746, 12592.2756566 ,\n",
       "       12039.34522064, 13180.57528013, 43699.57575422, 13921.49198515,\n",
       "       24546.89126279,  6903.93316331, 17173.81188328,  4814.62276875,\n",
       "        9523.88368666,  8822.22273196, 16661.23996254, 13233.69641846,\n",
       "        5432.0922878 , 11688.91588344, 14548.54329332, 12276.09963471,\n",
       "        5356.12292997, 35855.48026003,  6313.82146532])"
      ]
     },
     "execution_count": 95,
     "metadata": {},
     "output_type": "execute_result"
    }
   ],
   "source": [
    "x_pred=gbr.predict(x_test)\n",
    "\n",
    "x_pred"
   ]
  },
  {
   "cell_type": "code",
   "execution_count": 96,
   "id": "7112ebdc",
   "metadata": {},
   "outputs": [
    {
     "data": {
      "text/plain": [
       "764      9095.06825\n",
       "887      5272.17580\n",
       "890     29330.98315\n",
       "1293     9301.89355\n",
       "259     33750.29180\n",
       "           ...     \n",
       "342     13217.09450\n",
       "308     11944.59435\n",
       "1128    14358.36437\n",
       "503     32548.34050\n",
       "1197     5699.83750\n",
       "Name: charges, Length: 335, dtype: float64"
      ]
     },
     "execution_count": 96,
     "metadata": {},
     "output_type": "execute_result"
    }
   ],
   "source": [
    "y_test"
   ]
  },
  {
   "cell_type": "code",
   "execution_count": 97,
   "id": "89677173",
   "metadata": {},
   "outputs": [
    {
     "name": "stdout",
     "output_type": "stream",
     "text": [
      "r2_score for testing data : 0.8492775715211027\n"
     ]
    }
   ],
   "source": [
    "print('r2_score for testing data :',r2_score(x_pred,y_test))"
   ]
  },
  {
   "cell_type": "code",
   "execution_count": 98,
   "id": "752a68ca",
   "metadata": {},
   "outputs": [
    {
     "name": "stdout",
     "output_type": "stream",
     "text": [
      "Training score for Gradient Boosting : 0.904808306110167\n"
     ]
    }
   ],
   "source": [
    "print('Training score for Gradient Boosting :',gbr.score(x_train,y_train))"
   ]
  },
  {
   "cell_type": "code",
   "execution_count": 99,
   "id": "68e7b5b2",
   "metadata": {},
   "outputs": [
    {
     "name": "stdout",
     "output_type": "stream",
     "text": [
      "Testing score for Gradient Boosting : 0.8601889448658142\n"
     ]
    }
   ],
   "source": [
    "print('Testing score for Gradient Boosting :',gbr.score(x_test,y_test))"
   ]
  },
  {
   "cell_type": "code",
   "execution_count": null,
   "id": "49b3d94c",
   "metadata": {},
   "outputs": [],
   "source": []
  }
 ],
 "metadata": {
  "kernelspec": {
   "display_name": "Python 3 (ipykernel)",
   "language": "python",
   "name": "python3"
  },
  "language_info": {
   "codemirror_mode": {
    "name": "ipython",
    "version": 3
   },
   "file_extension": ".py",
   "mimetype": "text/x-python",
   "name": "python",
   "nbconvert_exporter": "python",
   "pygments_lexer": "ipython3",
   "version": "3.9.7"
  }
 },
 "nbformat": 4,
 "nbformat_minor": 5
}
